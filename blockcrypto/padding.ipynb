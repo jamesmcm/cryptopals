{
 "metadata": {
  "name": "",
  "signature": "sha256:19c2882c5bdba047de116b2a963f74ac96ff2d2ec163d1561c97ce7f761bb9bc"
 },
 "nbformat": 3,
 "nbformat_minor": 0,
 "worksheets": [
  {
   "cells": [
    {
     "cell_type": "code",
     "collapsed": false,
     "input": [
      "import basic"
     ],
     "language": "python",
     "metadata": {},
     "outputs": [],
     "prompt_number": 1
    },
    {
     "cell_type": "code",
     "collapsed": false,
     "input": [
      "print basic.ascii2hexstring(\"YELLOW SUBMARINE\")\n"
     ],
     "language": "python",
     "metadata": {},
     "outputs": [
      {
       "output_type": "stream",
       "stream": "stdout",
       "text": [
        "59454c4c4f57205355424d4152494e45\n"
       ]
      }
     ],
     "prompt_number": 3
    },
    {
     "cell_type": "code",
     "collapsed": false,
     "input": [
      "def pad(s,blocklength):\n",
      "    num=blocklength-(len(s)%blocklength)\n",
      "    if len(s)%blocklength==0:\n",
      "        return s\n",
      "    else:\n",
      "        return s + \"\".join([chr(num)]*(num))\n",
      "    "
     ],
     "language": "python",
     "metadata": {},
     "outputs": [],
     "prompt_number": 39
    },
    {
     "cell_type": "code",
     "collapsed": false,
     "input": [
      "print basic.ascii2hexstring(chr(0))\n"
     ],
     "language": "python",
     "metadata": {},
     "outputs": [
      {
       "output_type": "stream",
       "stream": "stdout",
       "text": [
        "00\n"
       ]
      }
     ],
     "prompt_number": 8
    },
    {
     "cell_type": "code",
     "collapsed": false,
     "input": [
      "print basic.ascii2hexstring(pad(\"YELLOW SUBMARINE\",4))\n",
      "print pad(\"YELLOW SUBMARINE\",20)\n"
     ],
     "language": "python",
     "metadata": {},
     "outputs": [
      {
       "output_type": "stream",
       "stream": "stdout",
       "text": [
        "59454c4c4f57205355424d4152494e45\n",
        "YELLOW SUBMARINE\u0004\u0004\u0004\u0004\n"
       ]
      }
     ],
     "prompt_number": 27
    },
    {
     "cell_type": "code",
     "collapsed": false,
     "input": [
      "print basic.splitblocks(\"YELLOW SUBMARINE\",8)"
     ],
     "language": "python",
     "metadata": {},
     "outputs": [
      {
       "output_type": "stream",
       "stream": "stdout",
       "text": [
        "['YELLOW S', 'UBMARINE']\n"
       ]
      }
     ],
     "prompt_number": 2
    },
    {
     "cell_type": "code",
     "collapsed": false,
     "input": [
      "from basic import *"
     ],
     "language": "python",
     "metadata": {},
     "outputs": [],
     "prompt_number": 1
    },
    {
     "cell_type": "code",
     "collapsed": false,
     "input": [
      "def decryptCBCAES(k,s,iv):\n",
      "    plaintext=\"\"\n",
      "    blocks=splitblocks(s,16)\n",
      "    for block in blocks:\n",
      "        temp=decryptECBAES(k,block)\n",
      "        plaintext+=xorstrings(temp,iv)\n",
      "        iv=block\n",
      "    return plaintext"
     ],
     "language": "python",
     "metadata": {},
     "outputs": [],
     "prompt_number": 2
    },
    {
     "cell_type": "code",
     "collapsed": false,
     "input": [
      "ct=\"\"\n",
      "f=open(\"10.txt\",\"r\")\n",
      "for line in f:\n",
      "    ct+=line.strip()\n",
      "f.close()\n",
      "ct=b642ascii(ct)"
     ],
     "language": "python",
     "metadata": {},
     "outputs": [],
     "prompt_number": 3
    },
    {
     "cell_type": "code",
     "collapsed": false,
     "input": [
      "print decryptCBCAES(\"YELLOW SUBMARINE\", ct, \"\".join([chr(0)]*16))"
     ],
     "language": "python",
     "metadata": {},
     "outputs": [
      {
       "output_type": "stream",
       "stream": "stdout",
       "text": [
        "I'm back and I'm ringin' the bell \n",
        "A rockin' on the mike while the fly girls yell \n",
        "In ecstasy in the back of me \n",
        "Well that's my DJ Deshay cuttin' all them Z's \n",
        "Hittin' hard and the girlies goin' crazy \n",
        "Vanilla's on the mike, man I'm not lazy. \n",
        "\n",
        "I'm lettin' my drug kick in \n",
        "It controls my mouth and I begin \n",
        "To just let it flow, let my concepts go \n",
        "My posse's to the side yellin', Go Vanilla Go! \n",
        "\n",
        "Smooth 'cause that's the way I will be \n",
        "And if you don't give a damn, then \n",
        "Why you starin' at me \n",
        "So get off 'cause I control the stage \n",
        "There's no dissin' allowed \n",
        "I'm in my own phase \n",
        "The girlies sa y they love me and that is ok \n",
        "And I can dance better than any kid n' play \n",
        "\n",
        "Stage 2 -- Yea the one ya' wanna listen to \n",
        "It's off my head so let the beat play through \n",
        "So I can funk it up and make it sound good \n",
        "1-2-3 Yo -- Knock on some wood \n",
        "For good luck, I like my rhymes atrocious \n",
        "Supercalafragilisticexpialidocious \n",
        "I'm an effect and that you can bet \n",
        "I can take a fly girl and make her wet. \n",
        "\n",
        "I'm like Samson -- Samson to Delilah \n",
        "There's no denyin', You can try to hang \n",
        "But you'll keep tryin' to get my style \n",
        "Over and over, practice makes perfect \n",
        "But not if you're a loafer. \n",
        "\n",
        "You'll get nowhere, no place, no time, no girls \n",
        "Soon -- Oh my God, homebody, you probably eat \n",
        "Spaghetti with a spoon! Come on and say it! \n",
        "\n",
        "VIP. Vanilla Ice yep, yep, I'm comin' hard like a rhino \n",
        "Intoxicating so you stagger like a wino \n",
        "So punks stop trying and girl stop cryin' \n",
        "Vanilla Ice is sellin' and you people are buyin' \n",
        "'Cause why the freaks are jockin' like Crazy Glue \n",
        "Movin' and groovin' trying to sing along \n",
        "All through the ghetto groovin' this here song \n",
        "Now you're amazed by the VIP posse. \n",
        "\n",
        "Steppin' so hard like a German Nazi \n",
        "Startled by the bases hittin' ground \n",
        "There's no trippin' on mine, I'm just gettin' down \n",
        "Sparkamatic, I'm hangin' tight like a fanatic \n",
        "You trapped me once and I thought that \n",
        "You might have it \n",
        "So step down and lend me your ear \n",
        "'89 in my time! You, '90 is my year. \n",
        "\n",
        "You're weakenin' fast, YO! and I can tell it \n",
        "Your body's gettin' hot, so, so I can smell it \n",
        "So don't be mad and don't be sad \n",
        "'Cause the lyrics belong to ICE, You can call me Dad \n",
        "You're pitchin' a fit, so step back and endure \n",
        "Let the witch doctor, Ice, do the dance to cure \n",
        "So come up close and don't be square \n",
        "You wanna battle me -- Anytime, anywhere \n",
        "\n",
        "You thought that I was weak, Boy, you're dead wrong \n",
        "So come on, everybody and sing this song \n",
        "\n",
        "Say -- Play that funky music Say, go white boy, go white boy go \n",
        "play that funky music Go white boy, go white boy, go \n",
        "Lay down and boogie and play that funky music till you die. \n",
        "\n",
        "Play that funky music Come on, Come on, let me hear \n",
        "Play that funky music white boy you say it, say it \n",
        "Play that funky music A little louder now \n",
        "Play that funky music, white boy Come on, Come on, Come on \n",
        "Play that funky music \n",
        "\u0004\u0004\u0004\u0004\n"
       ]
      }
     ],
     "prompt_number": 4
    },
    {
     "cell_type": "code",
     "collapsed": false,
     "input": [
      "news=decryptCBCAES(\"YELLOW SUBMARINE\", ct, \"\".join([chr(0)]*16))"
     ],
     "language": "python",
     "metadata": {},
     "outputs": [],
     "prompt_number": 5
    },
    {
     "cell_type": "code",
     "collapsed": false,
     "input": [
      "def encryptCBCAES(k,s,iv):\n",
      "    ctext=\"\"\n",
      "    blocks=splitblocks(s,16)\n",
      "    for block in blocks:\n",
      "        t=xorstrings(block,iv)\n",
      "        temp=encryptECBAES(k,t)\n",
      "        ctext+=temp\n",
      "        iv=temp\n",
      "    return ctext"
     ],
     "language": "python",
     "metadata": {},
     "outputs": [],
     "prompt_number": 15
    },
    {
     "cell_type": "code",
     "collapsed": false,
     "input": [
      "crypt=encryptCBCAES(\"YELLOW SUBMARINE\", news, \"\".join([chr(0)]*16))"
     ],
     "language": "python",
     "metadata": {},
     "outputs": [],
     "prompt_number": 16
    },
    {
     "cell_type": "code",
     "collapsed": false,
     "input": [
      "ct==crypt"
     ],
     "language": "python",
     "metadata": {},
     "outputs": [
      {
       "metadata": {},
       "output_type": "pyout",
       "prompt_number": 17,
       "text": [
        "True"
       ]
      }
     ],
     "prompt_number": 17
    },
    {
     "cell_type": "code",
     "collapsed": false,
     "input": [
      "print ascii2hexstring(ct[:32])\n",
      "print ascii2hexstring(crypt[:32])"
     ],
     "language": "python",
     "metadata": {},
     "outputs": [
      {
       "output_type": "stream",
       "stream": "stdout",
       "text": [
        "091230aade3eb330dbaa4358f88d2a6cd5cf8355cb6823397ad43906df434455\n",
        "091230aade3eb330dbaa4358f88d2a6c37b72d0cf4c22c344aec4142d00ce530\n"
       ]
      }
     ],
     "prompt_number": 11
    },
    {
     "cell_type": "code",
     "collapsed": false,
     "input": [
      "print news[:32]"
     ],
     "language": "python",
     "metadata": {},
     "outputs": [
      {
       "output_type": "stream",
       "stream": "stdout",
       "text": [
        "I'm back and I'm ringin' the bel\n"
       ]
      }
     ],
     "prompt_number": 14
    },
    {
     "cell_type": "code",
     "collapsed": false,
     "input": [
      "print splitblocks(ascii2hexstring(encryptCBCAES(\"YELLOW SUBMARINE\",\"\".join([chr(0)]*64) , \"\".join([chr(0)]*16))),32)"
     ],
     "language": "python",
     "metadata": {},
     "outputs": [
      {
       "output_type": "stream",
       "stream": "stdout",
       "text": [
        "['76d1cb4bafa246e2e3af035d6c13c372', 'c0d80fdd2e2a09d5bb60dec1df226e51', 'c9cfdc946ad38f61a2c50c9133f02724', '70e326324c3c9f8471cbecf6cbf7baef']\n"
       ]
      }
     ],
     "prompt_number": 20
    },
    {
     "cell_type": "code",
     "collapsed": false,
     "input": [
      "print splitblocks(ascii2hexstring(encryptECBAES(\"YELLOW SUBMARINE\",\"\".join([chr(0)]*64) )),32)"
     ],
     "language": "python",
     "metadata": {},
     "outputs": [
      {
       "output_type": "stream",
       "stream": "stdout",
       "text": [
        "['76d1cb4bafa246e2e3af035d6c13c372', '76d1cb4bafa246e2e3af035d6c13c372', '76d1cb4bafa246e2e3af035d6c13c372', '76d1cb4bafa246e2e3af035d6c13c372']\n"
       ]
      }
     ],
     "prompt_number": 21
    },
    {
     "cell_type": "code",
     "collapsed": false,
     "input": [
      "from random import randint"
     ],
     "language": "python",
     "metadata": {},
     "outputs": [],
     "prompt_number": 22
    },
    {
     "cell_type": "code",
     "collapsed": false,
     "input": [
      "def randomkey(keysize):\n",
      "    return \"\".join([chr(randint(0,255)) for x in xrange(keysize)])"
     ],
     "language": "python",
     "metadata": {},
     "outputs": [],
     "prompt_number": 24
    },
    {
     "cell_type": "code",
     "collapsed": false,
     "input": [
      "x=randomkey(16)"
     ],
     "language": "python",
     "metadata": {},
     "outputs": [],
     "prompt_number": 25
    },
    {
     "cell_type": "code",
     "collapsed": false,
     "input": [
      "print len(x)"
     ],
     "language": "python",
     "metadata": {},
     "outputs": [
      {
       "output_type": "stream",
       "stream": "stdout",
       "text": [
        "16\n"
       ]
      }
     ],
     "prompt_number": 26
    },
    {
     "cell_type": "code",
     "collapsed": false,
     "input": [
      "print ascii2hexstring(x)"
     ],
     "language": "python",
     "metadata": {},
     "outputs": [
      {
       "output_type": "stream",
       "stream": "stdout",
       "text": [
        "f14f177a7b105bd67ca4f843d2b1d00f\n"
       ]
      }
     ],
     "prompt_number": 27
    },
    {
     "cell_type": "code",
     "collapsed": false,
     "input": [
      "print randint(0,1)"
     ],
     "language": "python",
     "metadata": {},
     "outputs": [
      {
       "output_type": "stream",
       "stream": "stdout",
       "text": [
        "1\n"
       ]
      }
     ],
     "prompt_number": 34
    },
    {
     "cell_type": "code",
     "collapsed": false,
     "input": [
      "def randomencrypt(s):\n",
      "    key=randomkey(16)\n",
      "    cbefore=randint(5,10)\n",
      "    cafter=randint(5,10)\n",
      "    news=randomkey(cbefore)+s+randomkey(cafter)\n",
      "    news=pad(news,16)\n",
      "    x=randint(0,1)\n",
      "    if x==0:\n",
      "        out=encryptECBAES(key,news)\n",
      "        print \"Chose ECB\"\n",
      "    else:\n",
      "        out=encryptCBCAES(key,news , randomkey(16))\n",
      "        print \"Chose CBC\"\n",
      "    return out"
     ],
     "language": "python",
     "metadata": {},
     "outputs": [],
     "prompt_number": 52
    },
    {
     "cell_type": "code",
     "collapsed": false,
     "input": [
      "print splitblocks(ascii2hexstring(randomencrypt(\"\".join([chr(0)]*64))),32)"
     ],
     "language": "python",
     "metadata": {},
     "outputs": [
      {
       "output_type": "stream",
       "stream": "stdout",
       "text": [
        "['5adb240efd82e07cad1ce2a67144a2cd', 'ab705a1ba1df19226efa701471b7d0ea', 'ab705a1ba1df19226efa701471b7d0ea', 'ab705a1ba1df19226efa701471b7d0ea', '73dd6b59c8c9e65fce0423f5403bbb23']\n"
       ]
      }
     ],
     "prompt_number": 51
    },
    {
     "cell_type": "code",
     "collapsed": false,
     "input": [
      "def ECBorCBCoracle(blackbox):\n",
      "    lenblock=16\n",
      "    samecount=0\n",
      "    c=blackbox(\"\".join([chr(0)]*128))\n",
      "    for i in xrange(len(c)/lenblock):\n",
      "           for j in xrange(i+1,(len(c)/lenblock)):\n",
      "                if c[i*lenblock:(i+1)*lenblock] == c[j*lenblock:(j+1)*lenblock]:\n",
      "                    samecount+=1\n",
      "    if samecount>0:\n",
      "        return \"ECB\"\n",
      "    else:\n",
      "        return \"CBC\"\n",
      "    "
     ],
     "language": "python",
     "metadata": {},
     "outputs": [],
     "prompt_number": 53
    },
    {
     "cell_type": "code",
     "collapsed": false,
     "input": [
      "    lenblock=32\n",
      "    simd={}\n",
      "    for z in xrange(len(cps)):\n",
      "        c=cps[z]\n",
      "        count=0\n",
      "        for i in xrange(len(c)/lenblock):\n",
      "           for j in xrange(i+1,(len(c)/lenblock)):\n",
      "                if c[i*lenblock:(i+1)*lenblock] == c[j*lenblock:(j+1)*lenblock]:\n",
      "                    count+=1"
     ],
     "language": "python",
     "metadata": {},
     "outputs": []
    },
    {
     "cell_type": "code",
     "collapsed": false,
     "input": [
      "print ECBorCBCoracle(randomencrypt)"
     ],
     "language": "python",
     "metadata": {},
     "outputs": [
      {
       "output_type": "stream",
       "stream": "stdout",
       "text": [
        "Chose ECB\n",
        "ECB\n"
       ]
      }
     ],
     "prompt_number": 61
    },
    {
     "cell_type": "code",
     "collapsed": false,
     "input": [
      "def repeatECB(key,s):\n",
      "    appends=b642ascii(\"Um9sbGluJyBpbiBteSA1LjAKV2l0aCBteSByYWctdG9wIGRvd24gc28gbXkgaGFpciBjYW4gYmxvdwpUaGUgZ2lybGllcyBvbiBzdGFuZGJ5IHdhdmluZyBqdXN0IHRvIHNheSBoaQpEaWQgeW91IHN0b3A/IE5vLCBJIGp1c3QgZHJvdmUgYnkK\")\n",
      "    s=s+appends\n",
      "    s=pad(s,16)\n",
      "    out=encryptECBAES(key,s)\n",
      "    return out"
     ],
     "language": "python",
     "metadata": {},
     "outputs": [],
     "prompt_number": 76
    },
    {
     "cell_type": "code",
     "collapsed": false,
     "input": [],
     "language": "python",
     "metadata": {},
     "outputs": [],
     "prompt_number": 67
    },
    {
     "cell_type": "code",
     "collapsed": false,
     "input": [
      "globalkey=randomkey(16)"
     ],
     "language": "python",
     "metadata": {},
     "outputs": [],
     "prompt_number": 65
    },
    {
     "cell_type": "code",
     "collapsed": false,
     "input": [
      "print ascii2hexstring(repeatECB(globalkey,\"A\"*16))"
     ],
     "language": "python",
     "metadata": {},
     "outputs": [
      {
       "output_type": "stream",
       "stream": "stdout",
       "text": [
        "3909a5a0044e6bd0c362731e9c8f61b85579becc894499529e2aaf93d8d0b609a4bc33f5d235100d785dc9b21f9d6054c6c5f80d0b34f158e1b1ad0b1226040d78a0442ea0f36fda8cafdb27b28b8d3f71c3f66d94d0be342652208abe8ebc80195e4d8a7b8db408cf7fbd0f7a763009ce2723d2d775a391f0cd78b5e076ea4ea5412d50f8e207075e60a57eb5e0b271bc399719bac3a1af8c61c34ad9968df7\n"
       ]
      }
     ],
     "prompt_number": 85
    },
    {
     "cell_type": "code",
     "collapsed": false,
     "input": [
      "def findblocksize(blackbox,key, limit):\n",
      "    prevval=\"\"\n",
      "    for bs in xrange(2,limit):\n",
      "        ct=blackbox(key,\"A\"*bs)\n",
      "        if ct[:bs-1]==prevval:\n",
      "            return bs-1\n",
      "        else:\n",
      "            prevval=ct[:bs]\n",
      "    return None\n",
      "            \n",
      "\n",
      "findblocksize(repeatECB, globalkey,256)"
     ],
     "language": "python",
     "metadata": {},
     "outputs": [
      {
       "metadata": {},
       "output_type": "pyout",
       "prompt_number": 100,
       "text": [
        "16"
       ]
      }
     ],
     "prompt_number": 100
    },
    {
     "cell_type": "code",
     "collapsed": false,
     "input": [
      "def newECBorCBCoracle(key,lenblock,blackbox):\n",
      "    samecount=0\n",
      "    c=blackbox(key,\"\".join([chr(0)]*128))\n",
      "    for i in xrange(len(c)/lenblock):\n",
      "           for j in xrange(i+1,(len(c)/lenblock)):\n",
      "                if c[i*lenblock:(i+1)*lenblock] == c[j*lenblock:(j+1)*lenblock]:\n",
      "                    samecount+=1\n",
      "    if samecount>0:\n",
      "        return \"ECB\"\n",
      "    else:\n",
      "        return \"CBC\""
     ],
     "language": "python",
     "metadata": {},
     "outputs": [],
     "prompt_number": 101
    },
    {
     "cell_type": "code",
     "collapsed": false,
     "input": [
      "print len(\"231ef99bbde7af1217b1fe24e4bfd32e\")"
     ],
     "language": "python",
     "metadata": {},
     "outputs": [
      {
       "output_type": "stream",
       "stream": "stdout",
       "text": [
        "32\n"
       ]
      }
     ],
     "prompt_number": 89
    },
    {
     "cell_type": "code",
     "collapsed": false,
     "input": [
      "newECBorCBCoracle(globalkey,16,repeatECB)"
     ],
     "language": "python",
     "metadata": {},
     "outputs": [
      {
       "metadata": {},
       "output_type": "pyout",
       "prompt_number": 102,
       "text": [
        "'ECB'"
       ]
      }
     ],
     "prompt_number": 102
    },
    {
     "cell_type": "code",
     "collapsed": false,
     "input": [
      "onebyteshort=repeatECB(globalkey, \"A\"*15)"
     ],
     "language": "python",
     "metadata": {},
     "outputs": [],
     "prompt_number": 103
    },
    {
     "cell_type": "code",
     "collapsed": false,
     "input": [
      "print onebyteshort"
     ],
     "language": "python",
     "metadata": {},
     "outputs": [
      {
       "output_type": "stream",
       "stream": "stdout",
       "text": [
        "#\u001e",
        "\ufffd\ufffd\ufffd\ufffd\u0012\u0017\ufffd\ufffd$\ufffd\ufffd.?\u0013\u001e",
        "\ufffd\ufffd\ufffd\ufffd\u0592\u001e",
        "\ufffd\ufffd\ufffd\u053c\u0014\u06f4\u02858\ufffdnVK\ufffdyCA\ufffd\u05c9Q=NQP@\u0006\ufffd.n\ufffd\ufffdp\ufffd\u0010A\ufffd\u0011N\ufffd[4\ufffdi\ufffd8N\ufffd\ufffdwFR\ufffd\ufffd\u013a(U\ufffd\ufffd\ufffdS\ufffdq^\ufffd\ufffd\ufffd\f",
        "\ufffd}\u001b\t\ufffd\ufffdpJO.\ufffd\ufffd\ufffd\u0013@\ufffd\ufffd-\n",
        "\u0015\ufffdQ\ufffd\ufffd\ufffd\ufffd,\ufffd\ufffd\br\ufffdi)*\u001a\ufffdw\u0016\u0007^\ufffd\ufffd\tH\ufffd%\ufffd\u066a_F\u0014@^\bFD\ufffd\\s\n"
       ]
      }
     ],
     "prompt_number": 104
    },
    {
     "cell_type": "code",
     "collapsed": false,
     "input": [
      "def createdict(blackbox, key,blocksize,curblock=0,byte=1,knownletters=[]):\n",
      "    d={}\n",
      "    z=curblock*blocksize\n",
      "    for a in xrange(0,128):\n",
      "        d[blackbox(key,(\"A\"*((blocksize-byte)))+\"\".join(knownletters)+chr(a))[z:z+blocksize]]=chr(a)\n",
      "    #print (\"A\"*((blocksize-byte)))+\"\".join(knownletters)+chr(a)\n",
      "    return d"
     ],
     "language": "python",
     "metadata": {},
     "outputs": [],
     "prompt_number": 179
    },
    {
     "cell_type": "code",
     "collapsed": false,
     "input": [
      "d=createdict(repeatECB, globalkey,16)"
     ],
     "language": "python",
     "metadata": {},
     "outputs": [],
     "prompt_number": 111
    },
    {
     "cell_type": "code",
     "collapsed": false,
     "input": [
      "d[onebyteshort[:16]]"
     ],
     "language": "python",
     "metadata": {},
     "outputs": [
      {
       "metadata": {},
       "output_type": "pyout",
       "prompt_number": 113,
       "text": [
        "'R'"
       ]
      }
     ],
     "prompt_number": 113
    },
    {
     "cell_type": "code",
     "collapsed": false,
     "input": [
      "print len(repeatECB(globalkey,\"\"))"
     ],
     "language": "python",
     "metadata": {},
     "outputs": [
      {
       "output_type": "stream",
       "stream": "stdout",
       "text": [
        "144\n"
       ]
      }
     ],
     "prompt_number": 119
    },
    {
     "cell_type": "code",
     "collapsed": false,
     "input": [
      "print len(onebyteshort)"
     ],
     "language": "python",
     "metadata": {},
     "outputs": [
      {
       "output_type": "stream",
       "stream": "stdout",
       "text": [
        "160\n"
       ]
      }
     ],
     "prompt_number": 116
    },
    {
     "cell_type": "code",
     "collapsed": false,
     "input": [
      "def padoracle(blackbox,blocksize,totalbytes,key):\n",
      "    outs=[]\n",
      "    knownletters=[]\n",
      "    for b in xrange(totalbytes/blocksize):\n",
      "        o=\"\"\n",
      "        for byte in xrange(1,blocksize+1):\n",
      "            onebyteshort=blackbox(key, \"A\"*((blocksize-byte)))\n",
      "            d=createdict(blackbox,key,blocksize,curblock=b,byte=byte,knownletters=knownletters)\n",
      "            #print d\n",
      "            try:\n",
      "                knownletters.append(d[onebyteshort[b*blocksize:(b+1)*blocksize]])\n",
      "                o+=d[onebyteshort[b*blocksize:(b+1)*blocksize]]\n",
      "            except:\n",
      "                pass\n",
      "           # print o, b\n",
      "        outs.append(o)\n",
      "       #print outs,b\n",
      "    return \"\".join(outs)"
     ],
     "language": "python",
     "metadata": {},
     "outputs": [],
     "prompt_number": 187
    },
    {
     "cell_type": "code",
     "collapsed": false,
     "input": [
      "def unpad(s):\n",
      "    n=s[-1:]\n",
      "    i=ord(n)\n",
      "    if all(map(lambda x: x==n, s[-i:])):\n",
      "        return s[:-i]\n",
      "    else:\n",
      "        return s"
     ],
     "language": "python",
     "metadata": {},
     "outputs": [],
     "prompt_number": 199
    },
    {
     "cell_type": "code",
     "collapsed": false,
     "input": [
      "print len(padoracle(repeatECB,16,144,globalkey))"
     ],
     "language": "python",
     "metadata": {},
     "outputs": [
      {
       "output_type": "stream",
       "stream": "stdout",
       "text": [
        "139\n"
       ]
      }
     ],
     "prompt_number": 189
    },
    {
     "cell_type": "code",
     "collapsed": false,
     "input": [
      "print len(\"AAAAAAAAAAAAAAARollin' in my 5}\")"
     ],
     "language": "python",
     "metadata": {},
     "outputs": [
      {
       "output_type": "stream",
       "stream": "stdout",
       "text": [
        "31\n"
       ]
      }
     ],
     "prompt_number": 160
    },
    {
     "cell_type": "code",
     "collapsed": false,
     "input": [
      "print len(\"AAAAAAAAAAAAAAA\")"
     ],
     "language": "python",
     "metadata": {},
     "outputs": [
      {
       "output_type": "stream",
       "stream": "stdout",
       "text": [
        "15\n"
       ]
      }
     ],
     "prompt_number": 161
    },
    {
     "cell_type": "code",
     "collapsed": false,
     "input": [
      "print len(\"Rollin' in my 5\")"
     ],
     "language": "python",
     "metadata": {},
     "outputs": [
      {
       "output_type": "stream",
       "stream": "stdout",
       "text": [
        "15\n"
       ]
      }
     ],
     "prompt_number": 163
    },
    {
     "cell_type": "code",
     "collapsed": false,
     "input": [
      "print len(\"AAAAAAAAAAAAAARollin' in my 5.0}\")"
     ],
     "language": "python",
     "metadata": {},
     "outputs": [
      {
       "output_type": "stream",
       "stream": "stdout",
       "text": [
        "32\n"
       ]
      }
     ],
     "prompt_number": 175
    },
    {
     "cell_type": "code",
     "collapsed": false,
     "input": [
      "print len(b642ascii(\"Um9sbGluJyBpbiBteSA1LjAKV2l0aCBteSByYWctdG9wIGRvd24gc28gbXkgaGFpciBjYW4gYmxvdwpUaGUgZ2lybGllcyBvbiBzdGFuZGJ5IHdhdmluZyBqdXN0IHRvIHNheSBoaQpEaWQgeW91IHN0b3A/IE5vLCBJIGp1c3QgZHJvdmUgYnkK\"))"
     ],
     "language": "python",
     "metadata": {},
     "outputs": [
      {
       "output_type": "stream",
       "stream": "stdout",
       "text": [
        "138\n"
       ]
      }
     ],
     "prompt_number": 190
    },
    {
     "cell_type": "code",
     "collapsed": false,
     "input": [
      "print ascii2hexstring(chr(3))\n",
      "print ord(chr(3))"
     ],
     "language": "python",
     "metadata": {},
     "outputs": [
      {
       "output_type": "stream",
       "stream": "stdout",
       "text": [
        "03\n",
        "3\n"
       ]
      }
     ],
     "prompt_number": 197
    },
    {
     "cell_type": "code",
     "collapsed": false,
     "input": [
      "unpad(\"Test\")"
     ],
     "language": "python",
     "metadata": {},
     "outputs": [
      {
       "metadata": {},
       "output_type": "pyout",
       "prompt_number": 200,
       "text": [
        "'Test'"
       ]
      }
     ],
     "prompt_number": 200
    },
    {
     "cell_type": "code",
     "collapsed": false,
     "input": [
      "out=padoracle(repeatECB,16,144,globalkey)"
     ],
     "language": "python",
     "metadata": {},
     "outputs": [],
     "prompt_number": 201
    },
    {
     "cell_type": "code",
     "collapsed": false,
     "input": [
      "print ascii2hexstring(out)"
     ],
     "language": "python",
     "metadata": {},
     "outputs": [
      {
       "output_type": "stream",
       "stream": "stdout",
       "text": [
        "526f6c6c696e2720696e206d7920352e300a57697468206d79207261672d746f7020646f776e20736f206d7920686169722063616e20626c6f770a546865206769726c696573206f6e207374616e64627920776176696e67206a75737420746f207361792068690a44696420796f752073746f703f204e6f2c2049206a7573742064726f76652062790a01\n"
       ]
      }
     ],
     "prompt_number": 203
    },
    {
     "cell_type": "code",
     "collapsed": false,
     "input": [
      "print ascii2hexstring(unpad(out))"
     ],
     "language": "python",
     "metadata": {},
     "outputs": [
      {
       "output_type": "stream",
       "stream": "stdout",
       "text": [
        "526f6c6c696e2720696e206d7920352e300a57697468206d79207261672d746f7020646f776e20736f206d7920686169722063616e20626c6f770a546865206769726c696573206f6e207374616e64627920776176696e67206a75737420746f207361792068690a44696420796f752073746f703f204e6f2c2049206a7573742064726f76652062790a\n"
       ]
      }
     ],
     "prompt_number": 204
    },
    {
     "cell_type": "code",
     "collapsed": false,
     "input": [
      "print unpad(out)==b642ascii(\"Um9sbGluJyBpbiBteSA1LjAKV2l0aCBteSByYWctdG9wIGRvd24gc28gbXkgaGFpciBjYW4gYmxvdwpUaGUgZ2lybGllcyBvbiBzdGFuZGJ5IHdhdmluZyBqdXN0IHRvIHNheSBoaQpEaWQgeW91IHN0b3A/IE5vLCBJIGp1c3QgZHJvdmUgYnkK\")"
     ],
     "language": "python",
     "metadata": {},
     "outputs": [
      {
       "output_type": "stream",
       "stream": "stdout",
       "text": [
        "True\n"
       ]
      }
     ],
     "prompt_number": 205
    },
    {
     "cell_type": "code",
     "collapsed": false,
     "input": [],
     "language": "python",
     "metadata": {},
     "outputs": []
    }
   ],
   "metadata": {}
  }
 ]
}