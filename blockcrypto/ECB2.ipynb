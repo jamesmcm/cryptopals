{
 "metadata": {
  "name": "",
  "signature": "sha256:155ecd8dde7110aa21aaa885c9d7b76b339aff8133052d317d0cd50afcc21ff3"
 },
 "nbformat": 3,
 "nbformat_minor": 0,
 "worksheets": [
  {
   "cells": [
    {
     "cell_type": "markdown",
     "metadata": {},
     "source": [
      "http://www.reddit.com/r/crypto/comments/2wuztm/some_questions_regarding_matasano_challenge_13/"
     ]
    },
    {
     "cell_type": "code",
     "collapsed": false,
     "input": [
      "#foo=bar&baz=qux&zap=zazzle\n",
      "def parse2dict(s):\n",
      "    d={}\n",
      "    s=s.split(\"&\")\n",
      "    for item in s:\n",
      "        t=item.split(\"=\")\n",
      "        d[t[0]]=t[1]\n",
      "    return d"
     ],
     "language": "python",
     "metadata": {},
     "outputs": [],
     "prompt_number": 1
    },
    {
     "cell_type": "code",
     "collapsed": false,
     "input": [
      "parse2dict(\"foo=bar&baz=qux&zap=zazzle\")"
     ],
     "language": "python",
     "metadata": {},
     "outputs": [
      {
       "metadata": {},
       "output_type": "pyout",
       "prompt_number": 2,
       "text": [
        "{'baz': 'qux', 'foo': 'bar', 'zap': 'zazzle'}"
       ]
      }
     ],
     "prompt_number": 2
    },
    {
     "cell_type": "code",
     "collapsed": false,
     "input": [
      "uid=1\n",
      "def profile_for(key,email):\n",
      "    global uid\n",
      "    email=email.strip(\"&=\")\n",
      "    s=\"email=\"+str(email)+\"&uid=\"+str(uid)+\"&role=user\"\n",
      "    news=pad(s,16)\n",
      "    out=encryptECBAES(key,news)\n",
      "    #uid+=1\n",
      "    return out\n",
      "\n",
      "def create_profile(key,ct):\n",
      "    out=decryptECBAES(key,ct)\n",
      "    out=unpad(out)\n",
      "    d=parse2dict(out)\n",
      "    return d\n",
      "\n",
      "#print profile_for(\"foo@bar.com\")\n",
      "#{\n",
      "#  email: 'foo@bar.com',\n",
      "#  uid: 10,\n",
      "#  role: 'user'\n",
      "#}"
     ],
     "language": "python",
     "metadata": {},
     "outputs": [],
     "prompt_number": 25
    },
    {
     "cell_type": "code",
     "collapsed": false,
     "input": [
      "#Now, two more easy functions. Generate a random AES key, then:\n",
      "\n",
      "#Encrypt the encoded user profile under the key; \"provide\" that to the \"attacker\".\n",
      "#Decrypt the encoded user profile and parse it."
     ],
     "language": "python",
     "metadata": {},
     "outputs": [],
     "prompt_number": 4
    },
    {
     "cell_type": "code",
     "collapsed": false,
     "input": [
      "from blockcrypto import *\n"
     ],
     "language": "python",
     "metadata": {},
     "outputs": [],
     "prompt_number": 5
    },
    {
     "cell_type": "code",
     "collapsed": false,
     "input": [
      "globalkey=randomkey(16)"
     ],
     "language": "python",
     "metadata": {},
     "outputs": [],
     "prompt_number": 10
    },
    {
     "cell_type": "code",
     "collapsed": false,
     "input": [
      "ct=profile_for(globalkey,\"foo@bar.com\")"
     ],
     "language": "python",
     "metadata": {},
     "outputs": [],
     "prompt_number": 11
    },
    {
     "cell_type": "code",
     "collapsed": false,
     "input": [
      "print create_profile(globalkey,ct)"
     ],
     "language": "python",
     "metadata": {},
     "outputs": [
      {
       "output_type": "stream",
       "stream": "stdout",
       "text": [
        "{'role': 'user', 'email': 'foo@bar.com', 'uid': '2'}\n"
       ]
      }
     ],
     "prompt_number": 12
    },
    {
     "cell_type": "code",
     "collapsed": false,
     "input": [
      "print len(ct)"
     ],
     "language": "python",
     "metadata": {},
     "outputs": [
      {
       "output_type": "stream",
       "stream": "stdout",
       "text": [
        "48\n"
       ]
      }
     ],
     "prompt_number": 9
    },
    {
     "cell_type": "code",
     "collapsed": false,
     "input": [
      "#now cannot only look at first block, instead find #bytes to add between 1 block staying the same, and 2 blocks staying the same\n",
      "\n",
      "#rework code - add 2*blocksize bytes iteratively - do any blocks stay the same at any point\n",
      "def newfindblocksize(blackbox,key, limit):\n",
      "    firstblocknum=None\n",
      "    for bs in xrange(1,limit):\n",
      "        for byte in xrange(bs,2*bs):\n",
      "            ct=blackbox(key,\"A\"*byte)\n",
      "            blocks=splitblocks(ct,bs)\n",
      "            #print blocks\n",
      "            for i in xrange(len(blocks)):\n",
      "                try:\n",
      "                    if blocks[i] == prevset[i]:\n",
      "                        #print prevset\n",
      "                        #print blocks\n",
      "                        #print ascii2hexstring(block)\n",
      "                        return bs\n",
      "                except:\n",
      "                    pass\n",
      "            prevset=list(blocks)\n",
      "    return None"
     ],
     "language": "python",
     "metadata": {},
     "outputs": [],
     "prompt_number": 26
    },
    {
     "cell_type": "code",
     "collapsed": false,
     "input": [
      "### fuck it, assume 128 bit key, otherwise we need to look at how many bytes we have to insert between one block which was changing stopping changing, and two\n",
      "\n",
      "import numpy as np\n",
      "def newfindblocksize(blackbox,key, limit):\n",
      "    firstblocknum=None\n",
      "    for bs in xrange(1,limit):\n",
      "        origct=blackbox(key,\"\")\n",
      "        hasblockchanged=np.zeros(l)\n",
      "        for byte in xrange(bs,2*(bs+1)):\n",
      "            ct=blackbox(key,\"A\"*byte)\n",
      "            blocks=splitblocks(ct,bs)\n",
      "            #print blocks\n",
      "            try:\n",
      "                if np.sum(np.array(blocks)==np.array(prevset)) == 1:\n",
      "                    firstnum=byte\n",
      "                elif np.sum(np.array(blocks)==np.array(prevset)) >=2:\n",
      "                    print bs, byte, firstnum\n",
      "                    print byte-firstnum\n",
      "                    print \"----\"\n",
      "                    break\n",
      "            except:\n",
      "                pass\n",
      "            prevset=list(blocks)\n",
      "    return None\n",
      "print newfindblocksize(profile_for,globalkey,256)"
     ],
     "language": "python",
     "metadata": {},
     "outputs": [],
     "prompt_number": 27
    },
    {
     "cell_type": "code",
     "collapsed": false,
     "input": [],
     "language": "python",
     "metadata": {},
     "outputs": []
    },
    {
     "cell_type": "code",
     "collapsed": false,
     "input": [],
     "language": "python",
     "metadata": {},
     "outputs": []
    }
   ],
   "metadata": {}
  }
 ]
}