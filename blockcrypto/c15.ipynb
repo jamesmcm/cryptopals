{
 "metadata": {
  "name": "",
  "signature": "sha256:f564e3e809898efbc96ac5e3ac5fb35add676cf7372a5a284be82a7d8460fc1d"
 },
 "nbformat": 3,
 "nbformat_minor": 0,
 "worksheets": [
  {
   "cells": [
    {
     "cell_type": "code",
     "collapsed": false,
     "input": [
      "class MyException(Exception):\n",
      "    pass\n",
      "\n",
      "def unpad2(s):\n",
      "    n=s[-1:]\n",
      "    i=ord(n)\n",
      "    if all(map(lambda x: x==n, s[-i:])):\n",
      "        return s[:-i]\n",
      "    else:\n",
      "        raise MyException(\"Bad Padding!\")\n"
     ],
     "language": "python",
     "metadata": {},
     "outputs": [],
     "prompt_number": 7
    },
    {
     "cell_type": "code",
     "collapsed": false,
     "input": [
      "unpad2(\"ICE ICE BABY\\x04\\x04\\x04\\x04\")"
     ],
     "language": "python",
     "metadata": {},
     "outputs": [
      {
       "metadata": {},
       "output_type": "pyout",
       "prompt_number": 8,
       "text": [
        "'ICE ICE BABY'"
       ]
      }
     ],
     "prompt_number": 8
    },
    {
     "cell_type": "code",
     "collapsed": false,
     "input": [
      "unpad2(\"ICE ICE BABY\\x05\\x05\\x05\\x05\")"
     ],
     "language": "python",
     "metadata": {},
     "outputs": [
      {
       "ename": "MyException",
       "evalue": "Bad Padding!",
       "output_type": "pyerr",
       "traceback": [
        "\u001b[1;31m---------------------------------------------------------------------------\u001b[0m\n\u001b[1;31mMyException\u001b[0m                               Traceback (most recent call last)",
        "\u001b[1;32m<ipython-input-9-7633853194f6>\u001b[0m in \u001b[0;36m<module>\u001b[1;34m()\u001b[0m\n\u001b[1;32m----> 1\u001b[1;33m \u001b[0munpad2\u001b[0m\u001b[1;33m(\u001b[0m\u001b[1;34m\"ICE ICE BABY\\x05\\x05\\x05\\x05\"\u001b[0m\u001b[1;33m)\u001b[0m\u001b[1;33m\u001b[0m\u001b[0m\n\u001b[0m",
        "\u001b[1;32m<ipython-input-7-9db45f1ff470>\u001b[0m in \u001b[0;36munpad2\u001b[1;34m(s)\u001b[0m\n\u001b[0;32m      8\u001b[0m         \u001b[1;32mreturn\u001b[0m \u001b[0ms\u001b[0m\u001b[1;33m[\u001b[0m\u001b[1;33m:\u001b[0m\u001b[1;33m-\u001b[0m\u001b[0mi\u001b[0m\u001b[1;33m]\u001b[0m\u001b[1;33m\u001b[0m\u001b[0m\n\u001b[0;32m      9\u001b[0m     \u001b[1;32melse\u001b[0m\u001b[1;33m:\u001b[0m\u001b[1;33m\u001b[0m\u001b[0m\n\u001b[1;32m---> 10\u001b[1;33m         \u001b[1;32mraise\u001b[0m \u001b[0mMyException\u001b[0m\u001b[1;33m(\u001b[0m\u001b[1;34m\"Bad Padding!\"\u001b[0m\u001b[1;33m)\u001b[0m\u001b[1;33m\u001b[0m\u001b[0m\n\u001b[0m",
        "\u001b[1;31mMyException\u001b[0m: Bad Padding!"
       ]
      }
     ],
     "prompt_number": 9
    },
    {
     "cell_type": "code",
     "collapsed": false,
     "input": [
      "unpad2(\"ICE ICE BABY\\x01\\x02\\x03\\x04\")"
     ],
     "language": "python",
     "metadata": {},
     "outputs": [
      {
       "ename": "MyException",
       "evalue": "Bad Padding!",
       "output_type": "pyerr",
       "traceback": [
        "\u001b[1;31m---------------------------------------------------------------------------\u001b[0m\n\u001b[1;31mMyException\u001b[0m                               Traceback (most recent call last)",
        "\u001b[1;32m<ipython-input-10-a68f9990457c>\u001b[0m in \u001b[0;36m<module>\u001b[1;34m()\u001b[0m\n\u001b[1;32m----> 1\u001b[1;33m \u001b[0munpad2\u001b[0m\u001b[1;33m(\u001b[0m\u001b[1;34m\"ICE ICE BABY\\x01\\x02\\x03\\x04\"\u001b[0m\u001b[1;33m)\u001b[0m\u001b[1;33m\u001b[0m\u001b[0m\n\u001b[0m",
        "\u001b[1;32m<ipython-input-7-9db45f1ff470>\u001b[0m in \u001b[0;36munpad2\u001b[1;34m(s)\u001b[0m\n\u001b[0;32m      8\u001b[0m         \u001b[1;32mreturn\u001b[0m \u001b[0ms\u001b[0m\u001b[1;33m[\u001b[0m\u001b[1;33m:\u001b[0m\u001b[1;33m-\u001b[0m\u001b[0mi\u001b[0m\u001b[1;33m]\u001b[0m\u001b[1;33m\u001b[0m\u001b[0m\n\u001b[0;32m      9\u001b[0m     \u001b[1;32melse\u001b[0m\u001b[1;33m:\u001b[0m\u001b[1;33m\u001b[0m\u001b[0m\n\u001b[1;32m---> 10\u001b[1;33m         \u001b[1;32mraise\u001b[0m \u001b[0mMyException\u001b[0m\u001b[1;33m(\u001b[0m\u001b[1;34m\"Bad Padding!\"\u001b[0m\u001b[1;33m)\u001b[0m\u001b[1;33m\u001b[0m\u001b[0m\n\u001b[0m",
        "\u001b[1;31mMyException\u001b[0m: Bad Padding!"
       ]
      }
     ],
     "prompt_number": 10
    },
    {
     "cell_type": "code",
     "collapsed": false,
     "input": [],
     "language": "python",
     "metadata": {},
     "outputs": [],
     "prompt_number": 10
    },
    {
     "cell_type": "code",
     "collapsed": false,
     "input": [
      "import sys\n",
      "sys.path.insert(0,'..')\n",
      "from blockcrypto import *\n",
      "globalkey=randomkey(16)\n",
      "iv = randomkey(16)"
     ],
     "language": "python",
     "metadata": {},
     "outputs": [],
     "prompt_number": 13
    },
    {
     "cell_type": "code",
     "collapsed": false,
     "input": [
      "import string\n",
      "def f1(s,key,iv):\n",
      "    s=s.replace(\"=\",\"\")\n",
      "    s=s.replace(\"&\",\"\")\n",
      "    s=s.replace(\";\",\"\")\n",
      "    news = pad(\"comment1=cooking%20MCs;userdata=\" + s + \";comment2=%20like%20a%20pound%20of%20bacon\", 16)\n",
      "    return encryptCBCAES(key,news, iv)\n",
      "\n",
      "def f2(s,key,iv):\n",
      "    s=decryptCBCAES(key,s,iv)\n",
      "    print s\n",
      "    #print [s[i:i+16] for i in range(0, len(s), 16)]\n",
      "    if string.find(s,\";admin=true;\")!=-1:\n",
      "        return True\n",
      "    else:\n",
      "        return False"
     ],
     "language": "python",
     "metadata": {},
     "outputs": [],
     "prompt_number": 60
    },
    {
     "cell_type": "code",
     "collapsed": false,
     "input": [
      "test=f1(\"AadminAtrue\", globalkey, iv)\n",
      "#test=test[:16]+chr(ord(test[16])+5) + test[17:]\n",
      "#test=test[:16+6] + chr(ord(test[16+6])+1) + test[16+7:]\n",
      "test=test[:16]+chr(ord(\"A\")^ord(\";\")^ord(test[16])) + test[17:]\n",
      "test=test[:16+6] + chr(ord(\"A\")^ord(\"=\")^ord(test[16+6])) + test[16+7:]\n",
      "f2(test,globalkey,iv)"
     ],
     "language": "python",
     "metadata": {},
     "outputs": [
      {
       "output_type": "stream",
       "stream": "stdout",
       "text": [
        "comment1=cooking\ufffd\u0001\r",
        "\ufffd\ufffd\ufffd>\u000f/\ufffd\ufffd\ufffd\ufffd\ufffd\ufffd;admin=true;comment2=%20like%20a%20pound%20of%20bacon\u000b",
        "\u000b",
        "\u000b",
        "\u000b",
        "\u000b",
        "\u000b",
        "\u000b",
        "\u000b",
        "\u000b",
        "\u000b",
        "\u000b",
        "\n"
       ]
      },
      {
       "metadata": {},
       "output_type": "pyout",
       "prompt_number": 61,
       "text": [
        "True"
       ]
      }
     ],
     "prompt_number": 61
    },
    {
     "cell_type": "code",
     "collapsed": false,
     "input": [],
     "language": "python",
     "metadata": {},
     "outputs": [
      {
       "metadata": {},
       "output_type": "pyout",
       "prompt_number": 57,
       "text": [
        "124"
       ]
      }
     ],
     "prompt_number": 57
    },
    {
     "cell_type": "code",
     "collapsed": false,
     "input": [],
     "language": "python",
     "metadata": {},
     "outputs": []
    }
   ],
   "metadata": {}
  }
 ]
}