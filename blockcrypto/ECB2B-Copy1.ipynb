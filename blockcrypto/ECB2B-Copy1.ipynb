{
 "cells": [
  {
   "cell_type": "markdown",
   "metadata": {},
   "source": [
    "http://www.reddit.com/r/crypto/comments/2wuztm/some_questions_regarding_matasano_challenge_13/"
   ]
  },
  {
   "cell_type": "code",
   "execution_count": 27,
   "metadata": {
    "collapsed": false
   },
   "outputs": [],
   "source": [
    "#foo=bar&baz=qux&zap=zazzle\n",
    "def parse2dict(s):\n",
    "    d={}\n",
    "    s=s.split(\"&\")\n",
    "    for item in s:\n",
    "        t=item.split(\"=\")\n",
    "        d[t[0]]=t[1]\n",
    "    return d\n",
    "\n",
    "uid=1\n",
    "#6,X,5,10 - 3 blocks\n",
    "def profile_for(key,email):\n",
    "    global uid\n",
    "    email=email.strip(\"&=\")\n",
    "    email=email.replace(\"&\",\"\")\n",
    "    email=email.replace(\"=\",\"\")\n",
    "    s=\"email=\"+str(email)+\"&uid=\"+str(uid)+\"&role=user\"\n",
    "    n=16\n",
    "    line =s\n",
    "    #print [line[i:i+n] for i in range(0, len(line), n)]\n",
    "    news=pad(s,16)\n",
    "    out=encryptECBAES(key,news)\n",
    "    #uid+=1\n",
    "    return out\n",
    "\n",
    "def create_profile(key,ct):\n",
    "    out=decryptECBAES(key,ct)\n",
    "    out=unpad(out)\n",
    "    #print(out)\n",
    "    #print ':'.join(x.encode('hex') for x in out)\n",
    "    d=parse2dict(out)\n",
    "    return d\n",
    "\n",
    "from blockcrypto import *\n",
    "globalkey=randomkey(16)"
   ]
  },
  {
   "cell_type": "code",
   "execution_count": null,
   "metadata": {
    "collapsed": false
   },
   "outputs": [],
   "source": []
  },
  {
   "cell_type": "code",
   "execution_count": 22,
   "metadata": {
    "collapsed": false
   },
   "outputs": [
    {
     "name": "stdout",
     "output_type": "stream",
     "text": [
      "['email=foo@barrol', 'eadmincrap.com&u', 'id=1&role=user']\n"
     ]
    }
   ],
   "source": [
    "ct=profile_for(globalkey,\"foo@bar&role=admin&crap=.com\")"
   ]
  },
  {
   "cell_type": "code",
   "execution_count": 23,
   "metadata": {
    "collapsed": false
   },
   "outputs": [
    {
     "name": "stdout",
     "output_type": "stream",
     "text": [
      "email=foo@barroleadmincrap.com&uid=1&role=user\n",
      "{'role': 'user', 'email': 'foo@barroleadmincrap.com', 'uid': '1'}\n"
     ]
    }
   ],
   "source": [
    "print create_profile(globalkey,ct)"
   ]
  },
  {
   "cell_type": "markdown",
   "metadata": {},
   "source": [
    "Assume blocksize is 16-byes (128-bit) - discovering this is possible but a pain in the ass."
   ]
  },
  {
   "cell_type": "code",
   "execution_count": 3,
   "metadata": {
    "collapsed": false
   },
   "outputs": [
    {
     "name": "stdout",
     "output_type": "stream",
     "text": [
      "ECB\n"
     ]
    }
   ],
   "source": [
    "print newECBorCBCoracle(globalkey,16,profile_for)"
   ]
  },
  {
   "cell_type": "code",
   "execution_count": 2,
   "metadata": {
    "collapsed": false
   },
   "outputs": [
    {
     "name": "stdout",
     "output_type": "stream",
     "text": [
      "10 0\n"
     ]
    }
   ],
   "source": [
    "### Need to modify padding oracle\n",
    "## First of all find where we are - how much input to we have to give to keep +1 blocks (16 chars) the same (from no input)?\n",
    "## Then insert this number + (16-n) bytes to do the padding attack - can only decrypt part after our input\n",
    "import numpy as np\n",
    "\n",
    "def wherearewe(blackbox, key):\n",
    "    #return offset to block\n",
    "    pastblocks=np.zeros(16)\n",
    "    blocksnoinput = splitblocks(blackbox(key,\"\"), 16)\n",
    "    blocksonebyte=splitblocks(blackbox(key,\"A\"), 16)\n",
    "    #numsameorig=np.sum(np.array(blocksnoinput)==np.array(blocksonebyte))\n",
    "    numsameorig=len(set(blocksnoinput).intersection(set(blocksonebyte)))\n",
    "    for b in xrange(1,18):\n",
    "        blocks = splitblocks(blackbox(key,\"A\"*b), 16)\n",
    "        #numsame=np.sum(np.array(blocksnoinput)==np.array(blocks))\n",
    "        numsame=len(set(blocks).intersection(set(pastblocks)))\n",
    "        if numsame>numsameorig:\n",
    "            return ((b-1)%16, np.max(np.where(np.array(blocks[:len(pastblocks)])==np.array(pastblocks)) ))\n",
    "        pastblocks=blocks\n",
    "    return None\n",
    "\n",
    "(offset,ourblock) =wherearewe(profile_for,globalkey) #expect 10\n",
    "print offset, ourblock\n",
    "###So we want to start with 35As, then reduce\n",
    "\n",
    "### TODO - We need to set the starting block correctly - want to extract from second block not first to begin with\n",
    "def newcreatedict(blackbox, key,blocksize,curblock=0,byte=1,knownletters=[], offset=0):\n",
    "    d={}\n",
    "    z=(curblock*blocksize)\n",
    "    #print z, z+blocksize, byte\n",
    "    #print ascii2hex(blackbox(key,(\"A\"*((blocksize-1)+offset))+\"&\"))\n",
    "    #print ':'.join(x.encode('hex') for x in blackbox(key,(\"A\"*((blocksize-2)+offset))+\"=u\")[16:32])\n",
    "    for a in xrange(0,128):\n",
    "        #print (\"A\"*((blocksize-byte)))+\"\".join(knownletters)+chr(a)\n",
    "        d[blackbox(key,(\"A\"*((blocksize-byte)+offset))+\"\".join(knownletters)+chr(a))[z:z+blocksize]]=chr(a)\n",
    "    #print (\"A\"*((blocksize-byte)))+\"\".join(knownletters)+chr(a)\n",
    "    return d\n",
    "\n",
    "# TODO CANNOT GET FIRST BYTE ?!?\n",
    "\n",
    "def newpadoracle(blackbox,blocksize,totalbytes,key, offset=0, ourblock=0):\n",
    "    outs=[]\n",
    "    knownletters=[]\n",
    "    for b in xrange((ourblock+1),(totalbytes/blocksize)+1):\n",
    "        o=\"\"\n",
    "        for byte in xrange(1,blocksize+1):\n",
    "            #print b,byte,offset,blocksize,((blocksize-byte)+offset)\n",
    "            #print b*blocksize, (b+1)*blocksize\n",
    "            #print blackbox(key, \"A\"*((blocksize-1)+offset))\n",
    "            print ':'.join(x.encode('hex') for x in blackbox(key, \"A\"*((blocksize-2)+offset)+\"=\")[16:32])\n",
    "\n",
    "            onebyteshort=blackbox(key, \"A\"*((blocksize-byte)+offset))\n",
    "            d=newcreatedict(blackbox,key,blocksize,curblock=b,byte=byte,knownletters=knownletters, offset=offset)\n",
    "            #print d\n",
    "            #print d\n",
    "            try: #TODO: Hack for last byte\n",
    "                knownletters.append(d[onebyteshort[b*blocksize:(b+1)*blocksize]])\n",
    "                o+=d[onebyteshort[b*blocksize:(b+1)*blocksize]]\n",
    "                print o\n",
    "            except Exception as e:\n",
    "                #print e\n",
    "                pass\n",
    "           # print o, b\n",
    "        outs.append(o)\n",
    "       #print outs,b\n",
    "    return \"\".join(outs)\n",
    "\n",
    "#print (len(profile_for(globalkey,\"\")) - (16-offset))\n",
    "#print len(profile_for(globalkey,\"\"))\n",
    "#print newpadoracle(profile_for,16,16, globalkey,offset, ourblock)\n",
    "\n",
    "\n",
    "### TODO: We are removing & and = when we encode email, so we cannot use these in padding attack\n",
    "### but &u succeeds, but we must guess that it is & - how do we know?\n",
    "### Strip only removes from the end\n",
    "### - change to do quoting"
   ]
  },
  {
   "cell_type": "code",
   "execution_count": 6,
   "metadata": {
    "collapsed": false
   },
   "outputs": [
    {
     "name": "stdout",
     "output_type": "stream",
     "text": [
      "32\n"
     ]
    }
   ],
   "source": [
    "hiddenlength= len(profile_for(globalkey,\"\"))\n",
    "print hiddenlength"
   ]
  },
  {
   "cell_type": "code",
   "execution_count": 7,
   "metadata": {
    "collapsed": false
   },
   "outputs": [
    {
     "name": "stdout",
     "output_type": "stream",
     "text": [
      "\n"
     ]
    }
   ],
   "source": [
    "out=padoracle(profile_for,16,hiddenlength,globalkey)\n",
    "print unpad(out)"
   ]
  },
  {
   "cell_type": "markdown",
   "metadata": {
    "collapsed": false
   },
   "source": [
    "Assuming we know plaintext form"
   ]
  },
  {
   "cell_type": "code",
   "execution_count": 39,
   "metadata": {
    "collapsed": false
   },
   "outputs": [
    {
     "name": "stdout",
     "output_type": "stream",
     "text": [
      "['email=AAA@AA.COM', 'admin\\x0b\\x0b\\x0b\\x0b\\x0b\\x0b\\x0b\\x0b\\x0b\\x0b\\x0b', '&uid=1&role=user']\n"
     ]
    }
   ],
   "source": [
    "ct1=profile_for(globalkey,\"AAA@AA.COMadmin\"+(\"\\x0B\"*11))"
   ]
  },
  {
   "cell_type": "code",
   "execution_count": 40,
   "metadata": {
    "collapsed": false
   },
   "outputs": [
    {
     "name": "stdout",
     "output_type": "stream",
     "text": [
      "['email=AAAAAAAA@A', '.COM&uid=1&role=', 'user']\n"
     ]
    }
   ],
   "source": [
    "ct2=profile_for(globalkey,\"AAAAAAAA@A.COM\")"
   ]
  },
  {
   "cell_type": "code",
   "execution_count": 41,
   "metadata": {
    "collapsed": false
   },
   "outputs": [
    {
     "name": "stdout",
     "output_type": "stream",
     "text": [
      "48\n",
      "48\n",
      "email=AAAAAAAA@A.COM&uid=1&role=admin\n",
      "65:6d:61:69:6c:3d:41:41:41:41:41:41:41:41:40:41:2e:43:4f:4d:26:75:69:64:3d:31:26:72:6f:6c:65:3d:61:64:6d:69:6e\n",
      "{'role': 'admin', 'email': 'AAAAAAAA@A.COM', 'uid': '1'}\n"
     ]
    }
   ],
   "source": [
    "    ct3=ct2\n",
    "print len(ct3)\n",
    "ct4=ct2[:32]+ct1[16:32]\n",
    "print len(ct4)\n",
    "print create_profile(globalkey,ct4)"
   ]
  },
  {
   "cell_type": "code",
   "execution_count": null,
   "metadata": {
    "collapsed": true
   },
   "outputs": [],
   "source": []
  }
 ],
 "metadata": {
  "kernelspec": {
   "display_name": "Python 2",
   "language": "python",
   "name": "python2"
  },
  "language_info": {
   "codemirror_mode": {
    "name": "ipython",
    "version": 2
   },
   "file_extension": ".py",
   "mimetype": "text/x-python",
   "name": "python",
   "nbconvert_exporter": "python",
   "pygments_lexer": "ipython2",
   "version": "2.7.9"
  }
 },
 "nbformat": 4,
 "nbformat_minor": 0
}
