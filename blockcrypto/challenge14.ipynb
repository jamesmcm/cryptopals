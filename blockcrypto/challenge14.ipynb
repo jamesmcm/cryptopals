{
 "cells": [
  {
   "cell_type": "code",
   "execution_count": 4,
   "metadata": {
    "collapsed": false
   },
   "outputs": [],
   "source": [
    "import sys\n",
    "sys.path.insert(0, '../')\n",
    "\n",
    "from blockcrypto import *\n",
    "globalkey=randomkey(16)"
   ]
  },
  {
   "cell_type": "code",
   "execution_count": 27,
   "metadata": {
    "collapsed": true
   },
   "outputs": [],
   "source": [
    "import random\n",
    "rcount=random.randint(1,64)\n",
    "rprefix=randomkey(rcount)"
   ]
  },
  {
   "cell_type": "code",
   "execution_count": 28,
   "metadata": {
    "collapsed": true
   },
   "outputs": [],
   "source": [
    "def myoracle(key,attack):\n",
    "    global rprefix\n",
    "    return encryptECBAES(key,pad(rprefix+attack+\"decryptme\",16))\n"
   ]
  },
  {
   "cell_type": "code",
   "execution_count": 29,
   "metadata": {
    "collapsed": false
   },
   "outputs": [
    {
     "name": "stdout",
     "output_type": "stream",
     "text": [
      "ECB\n"
     ]
    }
   ],
   "source": [
    "print newECBorCBCoracle(globalkey,16,myoracle)"
   ]
  },
  {
   "cell_type": "code",
   "execution_count": 30,
   "metadata": {
    "collapsed": false
   },
   "outputs": [
    {
     "name": "stdout",
     "output_type": "stream",
     "text": [
      "8 1\n",
      "24\n",
      "24\n"
     ]
    }
   ],
   "source": [
    "import numpy as np\n",
    "\n",
    "def wherearewe(blackbox, key):\n",
    "    #return offset to block\n",
    "    pastblocks=np.zeros(16)\n",
    "    blocksnoinput = splitblocks(blackbox(key,\"\"), 16)\n",
    "    blocksonebyte=splitblocks(blackbox(key,\"A\"), 16)\n",
    "    #numsameorig=np.sum(np.array(blocksnoinput)==np.array(blocksonebyte))\n",
    "    numsameorig=len(set(blocksnoinput).intersection(set(blocksonebyte)))\n",
    "    for b in xrange(1,18):\n",
    "        blocks = splitblocks(blackbox(key,\"A\"*b), 16)\n",
    "        #numsame=np.sum(np.array(blocksnoinput)==np.array(blocks))\n",
    "        numsame=len(set(blocks).intersection(set(pastblocks)))\n",
    "        if numsame>numsameorig:\n",
    "            return ((b-1)%16, np.max(np.where(np.array(blocks[:len(pastblocks)])==np.array(pastblocks)) ))\n",
    "        pastblocks=blocks\n",
    "    return None\n",
    "\n",
    "(offset,ourblock) =wherearewe(myoracle,globalkey) #expect 10\n",
    "print offset, ourblock\n",
    "lengthprefix = (ourblock)*16 + (16-offset)\n",
    "###So we want to start with 35As, then reduce\n",
    "\n",
    "### TODO - We need to set the starting block correctly - want to extract from second block not first to begin with\n",
    "\n",
    "#print len(rprefix)\n",
    "print lengthprefix\n"
   ]
  },
  {
   "cell_type": "code",
   "execution_count": 40,
   "metadata": {
    "collapsed": false
   },
   "outputs": [
    {
     "name": "stdout",
     "output_type": "stream",
     "text": [
      "decryptme\n"
     ]
    }
   ],
   "source": [
    "print unpad(newpadoracle(myoracle, 16,len(myoracle(globalkey,\"\")), globalkey, offset=offset, ourblock=ourblock ))"
   ]
  },
  {
   "cell_type": "code",
   "execution_count": 39,
   "metadata": {
    "collapsed": true
   },
   "outputs": [],
   "source": [
    "def newcreatedict(blackbox, key,blocksize,curblock=0,byte=1,knownletters=[], offset=0):\n",
    "    d={}\n",
    "    z=(curblock*blocksize)\n",
    "    #print z, z+blocksize, byte\n",
    "    #print ascii2hex(blackbox(key,(\"A\"*((blocksize-1)+offset))+\"&\"))\n",
    "    #print ':'.join(x.encode('hex') for x in blackbox(key,(\"A\"*((blocksize-2)+offset))+\"=u\")[16:32])\n",
    "    for a in xrange(0,128):\n",
    "        #print (\"A\"*((blocksize-byte)))+\"\".join(knownletters)+chr(a)\n",
    "        d[blackbox(key,(\"A\"*((blocksize-byte)+offset))+\"\".join(knownletters)+chr(a))[z:z+blocksize]]=chr(a)\n",
    "    #print (\"A\"*((blocksize-byte)))+\"\".join(knownletters)+chr(a)\n",
    "    return d\n",
    "\n",
    "# TODO CANNOT GET FIRST BYTE ?!?\n",
    "\n",
    "def newpadoracle(blackbox,blocksize,totalbytes,key, offset=0, ourblock=0):\n",
    "    outs=[]\n",
    "    knownletters=[]\n",
    "    for b in xrange((ourblock+1),(totalbytes/blocksize)+1):\n",
    "        o=\"\"\n",
    "        for byte in xrange(1,blocksize+1):\n",
    "            #print b,byte,offset,blocksize,((blocksize-byte)+offset)\n",
    "            #print b*blocksize, (b+1)*blocksize\n",
    "            #print blackbox(key, \"A\"*((blocksize-1)+offset))\n",
    "            #print ':'.join(x.encode('hex') for x in blackbox(key, \"A\"*((blocksize-2)+offset)+\"=\")[16:32])\n",
    "\n",
    "            onebyteshort=blackbox(key, \"A\"*((blocksize-byte)+offset))\n",
    "            d=newcreatedict(blackbox,key,blocksize,curblock=b,byte=byte,knownletters=knownletters, offset=offset)\n",
    "            #print d\n",
    "            #print d\n",
    "            try: #TODO: Hack for last byte\n",
    "                knownletters.append(d[onebyteshort[b*blocksize:(b+1)*blocksize]])\n",
    "                o+=d[onebyteshort[b*blocksize:(b+1)*blocksize]]\n",
    "                #print o\n",
    "            except Exception as e:\n",
    "                #print e\n",
    "                pass\n",
    "           # print o, b\n",
    "        outs.append(o)\n",
    "       #print outs,b\n",
    "    return \"\".join(outs)"
   ]
  },
  {
   "cell_type": "code",
   "execution_count": null,
   "metadata": {
    "collapsed": true
   },
   "outputs": [],
   "source": []
  }
 ],
 "metadata": {
  "kernelspec": {
   "display_name": "Python 2",
   "language": "python",
   "name": "python2"
  },
  "language_info": {
   "codemirror_mode": {
    "name": "ipython",
    "version": 2
   },
   "file_extension": ".py",
   "mimetype": "text/x-python",
   "name": "python",
   "nbconvert_exporter": "python",
   "pygments_lexer": "ipython2",
   "version": "2.7.9"
  }
 },
 "nbformat": 4,
 "nbformat_minor": 0
}
