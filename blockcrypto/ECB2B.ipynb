{
 "metadata": {
  "name": "",
  "signature": "sha256:d048b206e5e8107bc97a154d7c0ec0b0b73fba3746904d5d9659cec32543a989"
 },
 "nbformat": 3,
 "nbformat_minor": 0,
 "worksheets": [
  {
   "cells": [
    {
     "cell_type": "markdown",
     "metadata": {},
     "source": [
      "http://www.reddit.com/r/crypto/comments/2wuztm/some_questions_regarding_matasano_challenge_13/"
     ]
    },
    {
     "cell_type": "code",
     "collapsed": false,
     "input": [
      "#foo=bar&baz=qux&zap=zazzle\n",
      "def parse2dict(s):\n",
      "    d={}\n",
      "    s=s.split(\"&\")\n",
      "    for item in s:\n",
      "        t=item.split(\"=\")\n",
      "        d[t[0]]=t[1]\n",
      "    return d\n",
      "\n",
      "uid=1\n",
      "def profile_for(key,email):\n",
      "    global uid\n",
      "    email=email.strip(\"&=\")\n",
      "    s=\"email=\"+str(email)+\"&uid=\"+str(uid)+\"&role=user\"\n",
      "    news=pad(s,16)\n",
      "    out=encryptECBAES(key,news)\n",
      "    #uid+=1\n",
      "    return out\n",
      "\n",
      "def create_profile(key,ct):\n",
      "    out=decryptECBAES(key,ct)\n",
      "    out=unpad(out)\n",
      "    d=parse2dict(out)\n",
      "    return d\n",
      "\n",
      "from blockcrypto import *\n",
      "globalkey=randomkey(16)"
     ],
     "language": "python",
     "metadata": {},
     "outputs": [],
     "prompt_number": 1
    },
    {
     "cell_type": "code",
     "collapsed": false,
     "input": [
      "ct=profile_for(globalkey,\"foo@bar.com\")"
     ],
     "language": "python",
     "metadata": {},
     "outputs": [],
     "prompt_number": 2
    },
    {
     "cell_type": "markdown",
     "metadata": {},
     "source": [
      "Assume blocksize is 16-byes (128-bit) - discovering this is possible but a pain in the ass."
     ]
    },
    {
     "cell_type": "code",
     "collapsed": false,
     "input": [
      "print newECBorCBCoracle(globalkey,16,profile_for)"
     ],
     "language": "python",
     "metadata": {},
     "outputs": [
      {
       "output_type": "stream",
       "stream": "stdout",
       "text": [
        "ECB\n"
       ]
      }
     ],
     "prompt_number": 3
    },
    {
     "cell_type": "code",
     "collapsed": false,
     "input": [
      "### Need to modify padding oracle\n",
      "## First of all find where we are - how much input to we have to give to keep +1 blocks (16 chars) the same (from no input)?\n",
      "## Then insert this number + (16-n) bytes to do the padding attack - can only decrypt part after our input\n",
      "import numpy as np\n",
      "\n",
      "def wherearewe(blackbox, key):\n",
      "    #return offset to block\n",
      "    pastblocks=np.zeros(16)\n",
      "    blocksnoinput = splitblocks(blackbox(key,\"\"), 16)\n",
      "    blocksonebyte=splitblocks(blackbox(key,\"A\"), 16)\n",
      "    #numsameorig=np.sum(np.array(blocksnoinput)==np.array(blocksonebyte))\n",
      "    numsameorig=len(set(blocksnoinput).intersection(set(blocksonebyte)))\n",
      "    for b in xrange(1,18):\n",
      "        blocks = splitblocks(blackbox(key,\"A\"*b), 16)\n",
      "        #numsame=np.sum(np.array(blocksnoinput)==np.array(blocks))\n",
      "        numsame=len(set(blocks).intersection(set(pastblocks)))\n",
      "        if numsame>numsameorig:\n",
      "            return ((b-1)%16, np.max(np.where(np.array(blocks[:len(pastblocks)])==np.array(pastblocks)) ))\n",
      "        pastblocks=blocks\n",
      "    return None\n",
      "\n",
      "(offset,ourblock) =wherearewe(profile_for,globalkey) #expect 10\n",
      "print offset\n",
      "###So we want to start with 35As, then reduce\n",
      "\n",
      "### TODO - We need to set the starting block correctly - want to extract from second block not first to begin with\n",
      "def newcreatedict(blackbox, key,blocksize,curblock=0,byte=1,knownletters=[], offset=0):\n",
      "    d={}\n",
      "    z=(curblock*blocksize)\n",
      "    for a in xrange(0,128):\n",
      "        #print (\"A\"*((blocksize-byte)))+\"\".join(knownletters)+chr(a)\n",
      "        d[blackbox(key,(\"A\"*((blocksize-byte)+offset))+\"\".join(knownletters)+chr(a))[z:z+blocksize]]=chr(a)\n",
      "    #print (\"A\"*((blocksize-byte)))+\"\".join(knownletters)+chr(a)\n",
      "    return d\n",
      "\n",
      "# TODO CANNOT GET FIRST BYTE ?!?\n",
      "\n",
      "def newpadoracle(blackbox,blocksize,totalbytes,key, offset=0, ourblock=0):\n",
      "    outs=[]\n",
      "    knownletters=[]\n",
      "    for b in xrange((ourblock+1),totalbytes/blocksize):\n",
      "        o=\"\"\n",
      "        for byte in xrange(1,blocksize+1):\n",
      "            onebyteshort=blackbox(key, \"A\"*((blocksize-byte)+offset))\n",
      "            d=newcreatedict(blackbox,key,blocksize,curblock=b,byte=byte,knownletters=knownletters, offset=offset)\n",
      "            #print d\n",
      "            #print d\n",
      "            try: #TODO: Hack for last byte\n",
      "                knownletters.append(d[onebyteshort[b*blocksize:(b+1)*blocksize]])\n",
      "                o+=d[onebyteshort[b*blocksize:(b+1)*blocksize]]\n",
      "            except Exception as e:\n",
      "                #print e\n",
      "                pass\n",
      "           # print o, b\n",
      "        outs.append(o)\n",
      "       #print outs,b\n",
      "    return \"\".join(outs)\n",
      "\n",
      "print len(profile_for(globalkey,\"\"))\n",
      "print newpadoracle(profile_for,16,len(profile_for(globalkey,\"\")), globalkey,offset, ourblock)"
     ],
     "language": "python",
     "metadata": {},
     "outputs": [
      {
       "output_type": "stream",
       "stream": "stdout",
       "text": [
        "10\n",
        "32\n",
        "['================']\n",
        "================\n"
       ]
      }
     ],
     "prompt_number": 64
    },
    {
     "cell_type": "code",
     "collapsed": false,
     "input": [],
     "language": "python",
     "metadata": {},
     "outputs": [],
     "prompt_number": 44
    },
    {
     "cell_type": "code",
     "collapsed": false,
     "input": [
      "hiddenlength= len(profile_for(globalkey,\"\"))\n",
      "print hiddenlength"
     ],
     "language": "python",
     "metadata": {},
     "outputs": [
      {
       "output_type": "stream",
       "stream": "stdout",
       "text": [
        "32\n"
       ]
      }
     ],
     "prompt_number": 5
    },
    {
     "cell_type": "code",
     "collapsed": false,
     "input": [
      "out=padoracle(profile_for,16,hiddenlength,globalkey)\n",
      "print unpad(out)"
     ],
     "language": "python",
     "metadata": {},
     "outputs": [
      {
       "output_type": "stream",
       "stream": "stdout",
       "text": [
        "\n"
       ]
      }
     ],
     "prompt_number": 15
    },
    {
     "cell_type": "code",
     "collapsed": false,
     "input": [],
     "language": "python",
     "metadata": {},
     "outputs": []
    }
   ],
   "metadata": {}
  }
 ]
}