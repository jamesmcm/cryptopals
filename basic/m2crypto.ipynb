{
 "metadata": {
  "name": "",
  "signature": "sha256:837a3d69a118bd9b694c39cf51cdc7974dff4813b153a3bcca11562c21277d00"
 },
 "nbformat": 3,
 "nbformat_minor": 0,
 "worksheets": [
  {
   "cells": [
    {
     "cell_type": "code",
     "collapsed": false,
     "input": [
      "import M2Crypto\n",
      "\n",
      "def encrypt_file(key, in_filename, out_filename,iv):\n",
      "    cipher=M2Crypto.EVP.Cipher('aes_256_cfb',key,iv, op=1)\n",
      "    with open(in_filename, 'rb') as infile:\n",
      "        with open(out_filename, 'wb') as outfile:\n",
      "          outfile.write(b)\n",
      "          while True:\n",
      "            buf = infile.read(1024)\n",
      "            if not buf:\n",
      "                break\n",
      "            outfile.write(cipher.update(buf))\n",
      "\n",
      "          outfile.write( cipher.final() )  \n",
      "          outfile.close()\n",
      "        infile.close()\n",
      "\n",
      "def decrypt_file(key, in_filename, out_filename,iv):\n",
      "    cipher = M2Crypto.EVP.Cipher(\"aes_256_cfb\",key , iv, op = 0)\n",
      "    with open(in_filename, 'rb') as infile: \n",
      "        with open(out_filename, 'wb') as outfile:\n",
      "          while True:\n",
      "            buf = infile.read(1024)\n",
      "            if not buf:\n",
      "                break\n",
      "            try:\n",
      "                outfile.write(cipher.update(buf))\n",
      "            except:\n",
      "                print \"here\"\n",
      "          outfile.write( cipher.final() )  \n",
      "          outfile.close()\n",
      "        infile.close()"
     ],
     "language": "python",
     "metadata": {},
     "outputs": [],
     "prompt_number": 1
    },
    {
     "cell_type": "code",
     "collapsed": false,
     "input": [
      "cipher=M2Crypto.EVP.Cipher('aes_128_ecb',b'YELLOW SUBMARINE',\"\", op=1, padding=0, salt=None)\n"
     ],
     "language": "python",
     "metadata": {},
     "outputs": [],
     "prompt_number": 42
    },
    {
     "cell_type": "code",
     "collapsed": false,
     "input": [
      "out=b''"
     ],
     "language": "python",
     "metadata": {},
     "outputs": [],
     "prompt_number": 43
    },
    {
     "cell_type": "code",
     "collapsed": false,
     "input": [
      "plaintext=b'0123456789abcdef0123456789abcdef'"
     ],
     "language": "python",
     "metadata": {},
     "outputs": [],
     "prompt_number": 44
    },
    {
     "cell_type": "code",
     "collapsed": false,
     "input": [
      "out=out+cipher.update(plaintext)"
     ],
     "language": "python",
     "metadata": {},
     "outputs": [],
     "prompt_number": 45
    },
    {
     "cell_type": "code",
     "collapsed": false,
     "input": [],
     "language": "python",
     "metadata": {},
     "outputs": [],
     "prompt_number": 45
    },
    {
     "cell_type": "code",
     "collapsed": false,
     "input": [
      "print ' '.join(x.encode('hex') for x in out)"
     ],
     "language": "python",
     "metadata": {},
     "outputs": [
      {
       "output_type": "stream",
       "stream": "stdout",
       "text": [
        "20 1e 80 2f 7b 6a ce 6f 6c d0 a7 43 ba 78 ae ad 20 1e 80 2f 7b 6a ce 6f 6c d0 a7 43 ba 78 ae ad\n"
       ]
      }
     ],
     "prompt_number": 46
    },
    {
     "cell_type": "code",
     "collapsed": false,
     "input": [
      "f=open(\"/home/jamesmcm/testcipher.txt\",\"w\")\n",
      "f.write(out)\n",
      "f.close()"
     ],
     "language": "python",
     "metadata": {},
     "outputs": [],
     "prompt_number": 34
    },
    {
     "cell_type": "code",
     "collapsed": false,
     "input": [
      "help(M2Crypto.EVP.Cipher)"
     ],
     "language": "python",
     "metadata": {},
     "outputs": [
      {
       "output_type": "stream",
       "stream": "stdout",
       "text": [
        "Help on class Cipher in module M2Crypto.EVP:\n",
        "\n",
        "class Cipher\n",
        " |  Methods defined here:\n",
        " |  \n",
        " |  __del__(self)\n",
        " |  \n",
        " |  __init__(self, alg, key, iv, op, key_as_bytes=0, d='md5', salt='12345678', i=1, padding=1)\n",
        " |  \n",
        " |  final(self)\n",
        " |  \n",
        " |  set_padding(self, padding=1)\n",
        " |  \n",
        " |  update(self, data)\n",
        " |  \n",
        " |  ----------------------------------------------------------------------\n",
        " |  Data and other attributes defined here:\n",
        " |  \n",
        " |  m2_cipher_ctx_free = <built-in function cipher_ctx_free>\n",
        "\n"
       ]
      }
     ],
     "prompt_number": 10
    },
    {
     "cell_type": "code",
     "collapsed": false,
     "input": [
      "from hex2b64 import b642ascii\n",
      "\n",
      "f=open(\"7.txt\",\"r\")\n",
      "s=b\"\"\n",
      "for line in f:\n",
      "    s+=line.strip()\n",
      "\n",
      "cipher=M2Crypto.EVP.Cipher('aes_128_ecb',b'YELLOW SUBMARINE',\"\", op=0, padding=0, salt=0)\n",
      "s=b642ascii(s)\n",
      "\n",
      "out=cipher.update(s)\n",
      "print out\n",
      "print cipher.final()"
     ],
     "language": "python",
     "metadata": {},
     "outputs": [
      {
       "output_type": "stream",
       "stream": "stdout",
       "text": [
        "I'm back and I'm ringin' the bell \n",
        "A rockin' on the mike while the fly girls yell \n",
        "In ecstasy in the back of me \n",
        "Well that's my DJ Deshay cuttin' all them Z's \n",
        "Hittin' hard and the girlies goin' crazy \n",
        "Vanilla's on the mike, man I'm not lazy. \n",
        "\n",
        "I'm lettin' my drug kick in \n",
        "It controls my mouth and I begin \n",
        "To just let it flow, let my concepts go \n",
        "My posse's to the side yellin', Go Vanilla Go! \n",
        "\n",
        "Smooth 'cause that's the way I will be \n",
        "And if you don't give a damn, then \n",
        "Why you starin' at me \n",
        "So get off 'cause I control the stage \n",
        "There's no dissin' allowed \n",
        "I'm in my own phase \n",
        "The girlies sa y they love me and that is ok \n",
        "And I can dance better than any kid n' play \n",
        "\n",
        "Stage 2 -- Yea the one ya' wanna listen to \n",
        "It's off my head so let the beat play through \n",
        "So I can funk it up and make it sound good \n",
        "1-2-3 Yo -- Knock on some wood \n",
        "For good luck, I like my rhymes atrocious \n",
        "Supercalafragilisticexpialidocious \n",
        "I'm an effect and that you can bet \n",
        "I can take a fly girl and make her wet. \n",
        "\n",
        "I'm like Samson -- Samson to Delilah \n",
        "There's no denyin', You can try to hang \n",
        "But you'll keep tryin' to get my style \n",
        "Over and over, practice makes perfect \n",
        "But not if you're a loafer. \n",
        "\n",
        "You'll get nowhere, no place, no time, no girls \n",
        "Soon -- Oh my God, homebody, you probably eat \n",
        "Spaghetti with a spoon! Come on and say it! \n",
        "\n",
        "VIP. Vanilla Ice yep, yep, I'm comin' hard like a rhino \n",
        "Intoxicating so you stagger like a wino \n",
        "So punks stop trying and girl stop cryin' \n",
        "Vanilla Ice is sellin' and you people are buyin' \n",
        "'Cause why the freaks are jockin' like Crazy Glue \n",
        "Movin' and groovin' trying to sing along \n",
        "All through the ghetto groovin' this here song \n",
        "Now you're amazed by the VIP posse. \n",
        "\n",
        "Steppin' so hard like a German Nazi \n",
        "Startled by the bases hittin' ground \n",
        "There's no trippin' on mine, I'm just gettin' down \n",
        "Sparkamatic, I'm hangin' tight like a fanatic \n",
        "You trapped me once and I thought that \n",
        "You might have it \n",
        "So step down and lend me your ear \n",
        "'89 in my time! You, '90 is my year. \n",
        "\n",
        "You're weakenin' fast, YO! and I can tell it \n",
        "Your body's gettin' hot, so, so I can smell it \n",
        "So don't be mad and don't be sad \n",
        "'Cause the lyrics belong to ICE, You can call me Dad \n",
        "You're pitchin' a fit, so step back and endure \n",
        "Let the witch doctor, Ice, do the dance to cure \n",
        "So come up close and don't be square \n",
        "You wanna battle me -- Anytime, anywhere \n",
        "\n",
        "You thought that I was weak, Boy, you're dead wrong \n",
        "So come on, everybody and sing this song \n",
        "\n",
        "Say -- Play that funky music Say, go white boy, go white boy go \n",
        "play that funky music Go white boy, go white boy, go \n",
        "Lay down and boogie and play that funky music till you die. \n",
        "\n",
        "Play that funky music Come on, Come on, let me hear \n",
        "Play that funky music white boy you say it, say it \n",
        "Play that funky music A little louder now \n",
        "Play that funky music, white boy Come on, Come on, Come on \n",
        "Play that funky music \n",
        "\u0004\u0004\u0004\u0004\n",
        "\n"
       ]
      }
     ],
     "prompt_number": 54
    },
    {
     "cell_type": "code",
     "collapsed": false,
     "input": [],
     "language": "python",
     "metadata": {},
     "outputs": []
    }
   ],
   "metadata": {}
  }
 ]
}