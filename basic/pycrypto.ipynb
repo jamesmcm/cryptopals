{
 "metadata": {
  "name": "",
  "signature": "sha256:944bdde9c99ed14e5b2062e7ac8256e74b740b0ab5ab5f799e2502ca3dfc7548"
 },
 "nbformat": 3,
 "nbformat_minor": 0,
 "worksheets": [
  {
   "cells": [
    {
     "cell_type": "code",
     "collapsed": false,
     "input": [
      "#encrypt \n",
      "openssl aes-128-ecb -in plain.text -out cipher.txt -nosalt -nopad -K \"59454c4c4f57205355424d4152494e45\"\n",
      "echo -n \"0123456789abcdef0123456789abcdef\" | openssl aes-128-ecb -nosalt -nopad -K \"59454c4c4f57205355424d4152494e45\"  | xxd\n",
      "\n",
      "#decrypt \n",
      "openssl aes-128-ecb -d -in cipher.txt -out dec.txt -nosalt -nopad -K \"59454c4c4f57205355424d4152494e45\""
     ],
     "language": "python",
     "metadata": {},
     "outputs": []
    },
    {
     "cell_type": "code",
     "collapsed": false,
     "input": [
      "import binascii\n",
      "from Crypto.Cipher import AES\n",
      " \n",
      "class AESCipher:\n",
      "    '''\n",
      "    PyCrypto AES using ECB mode implementation in Python 3.3.  \n",
      "    This uses very basic 0x00 padding, I would recommend PKCS5/7.\n",
      "    '''\n",
      " \n",
      "    def __init__(self, key):\n",
      "        '''\n",
      "        The constructor takes in a PLAINTEXT string as the key and converts it\n",
      "        to a byte string to work with throughout the class.\n",
      "        '''\n",
      "        # convert key to a plaintext byte string to work with it\n",
      "        self.key = bytes(key, encoding='utf-8')\n",
      "        self.BLOCK_SIZE = 16\n",
      "        \n",
      "    def __pad(self, raw):\n",
      "        '''\n",
      "        This right pads the raw text with 0x00 to force the text to be a\n",
      "        multiple of 16.  This is how the CFX_ENCRYPT_AES tag does the padding.\n",
      "        \n",
      "        @param raw: String of clear text to pad\n",
      "        @return: byte string of clear text with padding\n",
      "        '''\n",
      "        if (len(raw) % self.BLOCK_SIZE == 0):\n",
      "            return raw\n",
      "        padding_required = self.BLOCK_SIZE - (len(raw) % self.BLOCK_SIZE)\n",
      "        padChar = b'\\x00'\n",
      "        data = raw.encode('utf-8') + padding_required * padChar\n",
      "        return data\n",
      "    \n",
      "    def __unpad(self, s):\n",
      "        '''\n",
      "        This strips all of the 0x00 from the string passed in. \n",
      "        \n",
      "        @param s: the byte string to unpad\n",
      "        @return: unpadded byte string\n",
      "        '''\n",
      "        s = s.rstrip(b'\\x00')\n",
      "        return s\n",
      "    \n",
      "    def encrypt(self, raw):\n",
      "        '''\n",
      "        Takes in a string of clear text and encrypts it.\n",
      "        \n",
      "        @param raw: a string of clear text\n",
      "        @return: a string of encrypted ciphertext\n",
      "        '''\n",
      "        if (raw is None) or (len(raw) == 0):\n",
      "            raise ValueError('input text cannot be null or empty set')\n",
      "        # padding put on before sent for encryption\n",
      "        raw = self.__pad(raw)\n",
      "        cipher = AES.AESCipher(self.key[:32], AES.MODE_ECB)\n",
      "        ciphertext = cipher.encrypt(raw)\n",
      "        return  binascii.hexlify(bytearray(ciphertext)).decode('utf-8')\n",
      "    \n",
      "    def decrypt(self, enc):\n",
      "        '''\n",
      "        Takes in a string of ciphertext and decrypts it.\n",
      "        \n",
      "        @param enc: encrypted string of ciphertext\n",
      "        @return: decrypted string of clear text\n",
      "        '''\n",
      "        if (enc is None) or (len(enc) == 0):\n",
      "            raise ValueError('input text cannot be null or empty set')\n",
      "        enc = binascii.unhexlify(enc)\n",
      "        cipher = AES.AESCipher(self.key[:32], AES.MODE_ECB)\n",
      "        enc = self.__unpad(cipher.decrypt(enc))\n",
      "        return enc.decode('utf-8')"
     ],
     "language": "python",
     "metadata": {},
     "outputs": []
    },
    {
     "cell_type": "code",
     "collapsed": false,
     "input": [
      "from Crypto.Cipher import AES\n",
      "from Crypto import Random\n",
      "key = b'YELLOW SUBMARINE'\n",
      "#iv = Random.new().read(AES.block_size)\n",
      "cipher = AES.new(key, AES.MODE_ECB, \"\")\n",
      "msg =  cipher.encrypt(b'0123456789abcdef0123456789abcdef')\n"
     ],
     "language": "python",
     "metadata": {},
     "outputs": [],
     "prompt_number": 42
    },
    {
     "cell_type": "code",
     "collapsed": false,
     "input": [
      "print ' '.join(x.encode('hex') for x in msg)\n",
      "#a2a5 8316 129f c596 8341 c78a 0c36 5d20\n",
      "print len(b'0123456789abcdef0123456789abcdef')"
     ],
     "language": "python",
     "metadata": {},
     "outputs": [
      {
       "output_type": "stream",
       "stream": "stdout",
       "text": [
        "20 1e 80 2f 7b 6a ce 6f 6c d0 a7 43 ba 78 ae ad 20 1e 80 2f 7b 6a ce 6f 6c d0 a7 43 ba 78 ae ad\n",
        "32\n"
       ]
      }
     ],
     "prompt_number": 45
    },
    {
     "cell_type": "code",
     "collapsed": false,
     "input": [
      "print cipher.block_size\n",
      "print cipher.mode"
     ],
     "language": "python",
     "metadata": {},
     "outputs": [
      {
       "output_type": "stream",
       "stream": "stdout",
       "text": [
        "16\n",
        "1\n"
       ]
      }
     ],
     "prompt_number": 44
    },
    {
     "cell_type": "code",
     "collapsed": false,
     "input": [
      "from hex2b64 import b642ascii\n",
      "#83 d2 41 fb ca 6e 8a e3 3b 6e 55 ae 2c ac 62 af\n",
      "f=open(\"7.txt\",\"r\")\n",
      "s=b\"\"\n",
      "for line in f:\n",
      "    s+=line.strip()\n",
      "s=b642ascii(s)\n",
      "f.close()\n",
      "key = b'YELLOW SUBMARINE'\n",
      "#iv = Random.new().read(AES.block_size)\n",
      "cipher = AES.new(key, AES.MODE_ECB, \"ignore\")\n",
      "msg =  cipher.decrypt(s)\n",
      "print msg\n"
     ],
     "language": "python",
     "metadata": {},
     "outputs": [
      {
       "output_type": "stream",
       "stream": "stdout",
       "text": [
        "I'm back and I'm ringin' the bell \n",
        "A rockin' on the mike while the fly girls yell \n",
        "In ecstasy in the back of me \n",
        "Well that's my DJ Deshay cuttin' all them Z's \n",
        "Hittin' hard and the girlies goin' crazy \n",
        "Vanilla's on the mike, man I'm not lazy. \n",
        "\n",
        "I'm lettin' my drug kick in \n",
        "It controls my mouth and I begin \n",
        "To just let it flow, let my concepts go \n",
        "My posse's to the side yellin', Go Vanilla Go! \n",
        "\n",
        "Smooth 'cause that's the way I will be \n",
        "And if you don't give a damn, then \n",
        "Why you starin' at me \n",
        "So get off 'cause I control the stage \n",
        "There's no dissin' allowed \n",
        "I'm in my own phase \n",
        "The girlies sa y they love me and that is ok \n",
        "And I can dance better than any kid n' play \n",
        "\n",
        "Stage 2 -- Yea the one ya' wanna listen to \n",
        "It's off my head so let the beat play through \n",
        "So I can funk it up and make it sound good \n",
        "1-2-3 Yo -- Knock on some wood \n",
        "For good luck, I like my rhymes atrocious \n",
        "Supercalafragilisticexpialidocious \n",
        "I'm an effect and that you can bet \n",
        "I can take a fly girl and make her wet. \n",
        "\n",
        "I'm like Samson -- Samson to Delilah \n",
        "There's no denyin', You can try to hang \n",
        "But you'll keep tryin' to get my style \n",
        "Over and over, practice makes perfect \n",
        "But not if you're a loafer. \n",
        "\n",
        "You'll get nowhere, no place, no time, no girls \n",
        "Soon -- Oh my God, homebody, you probably eat \n",
        "Spaghetti with a spoon! Come on and say it! \n",
        "\n",
        "VIP. Vanilla Ice yep, yep, I'm comin' hard like a rhino \n",
        "Intoxicating so you stagger like a wino \n",
        "So punks stop trying and girl stop cryin' \n",
        "Vanilla Ice is sellin' and you people are buyin' \n",
        "'Cause why the freaks are jockin' like Crazy Glue \n",
        "Movin' and groovin' trying to sing along \n",
        "All through the ghetto groovin' this here song \n",
        "Now you're amazed by the VIP posse. \n",
        "\n",
        "Steppin' so hard like a German Nazi \n",
        "Startled by the bases hittin' ground \n",
        "There's no trippin' on mine, I'm just gettin' down \n",
        "Sparkamatic, I'm hangin' tight like a fanatic \n",
        "You trapped me once and I thought that \n",
        "You might have it \n",
        "So step down and lend me your ear \n",
        "'89 in my time! You, '90 is my year. \n",
        "\n",
        "You're weakenin' fast, YO! and I can tell it \n",
        "Your body's gettin' hot, so, so I can smell it \n",
        "So don't be mad and don't be sad \n",
        "'Cause the lyrics belong to ICE, You can call me Dad \n",
        "You're pitchin' a fit, so step back and endure \n",
        "Let the witch doctor, Ice, do the dance to cure \n",
        "So come up close and don't be square \n",
        "You wanna battle me -- Anytime, anywhere \n",
        "\n",
        "You thought that I was weak, Boy, you're dead wrong \n",
        "So come on, everybody and sing this song \n",
        "\n",
        "Say -- Play that funky music Say, go white boy, go white boy go \n",
        "play that funky music Go white boy, go white boy, go \n",
        "Lay down and boogie and play that funky music till you die. \n",
        "\n",
        "Play that funky music Come on, Come on, let me hear \n",
        "Play that funky music white boy you say it, say it \n",
        "Play that funky music A little louder now \n",
        "Play that funky music, white boy Come on, Come on, Come on \n",
        "Play that funky music \n",
        "\u0004\u0004\u0004\u0004\n"
       ]
      }
     ],
     "prompt_number": 46
    },
    {
     "cell_type": "code",
     "collapsed": false,
     "input": [
      "s=\"CRIwqt4+szDbqkNY+I0qbDe3LQz0wiw0SuxBQtAM5TDdMbjCMD/venUDW9BL\"[:32]\n",
      "msg =  cipher.decrypt(s)\n",
      "print msg"
     ],
     "language": "python",
     "metadata": {},
     "outputs": [
      {
       "output_type": "stream",
       "stream": "stdout",
       "text": [
        "\ufffd?\ufffd\ufffd\u001e",
        "U\u0017EF@\ufffdl\u0641\u000esh\ufffdd\ufffd32\u0011\ufffd\ufffd!\ufffd\u01f5RE\ufffd\n"
       ]
      }
     ],
     "prompt_number": 19
    },
    {
     "cell_type": "code",
     "collapsed": false,
     "input": [],
     "language": "python",
     "metadata": {},
     "outputs": [
      {
       "metadata": {},
       "output_type": "pyout",
       "prompt_number": 31,
       "text": [
        "16"
       ]
      }
     ],
     "prompt_number": 31
    },
    {
     "cell_type": "code",
     "collapsed": false,
     "input": [],
     "language": "python",
     "metadata": {},
     "outputs": []
    }
   ],
   "metadata": {}
  }
 ]
}