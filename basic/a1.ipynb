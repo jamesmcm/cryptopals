{
 "metadata": {
  "name": "",
  "signature": "sha256:8a7ccb16b5789dcceb8b6f4c569a5284e9a7aaecb6d75da05677026ee54e7279"
 },
 "nbformat": 3,
 "nbformat_minor": 0,
 "worksheets": [
  {
   "cells": [
    {
     "cell_type": "code",
     "collapsed": false,
     "input": [
      "#hex to base64\n",
      "\n",
      "hexd={\"0\":0,\"1\":1,\"2\":2,\"3\":3,\"4\":4,\"5\":5,\"6\":6,\"7\":7,\"8\":8,\"9\":9,\"a\":10,\"b\":11,\"c\":12,\"d\":13,\"e\":14,\"f\":15}\n",
      "b64d={0:\"A\",16:\"Q\",32:\"g\",48:\"w\",1:\"B\",17:\"R\",33:\"h\",49:\"x\",2:\"C\",18:\"S\",34:\"i\",50:\"y\",3:\"D\",19:\"T\",35:\"j\",51:\"z\",4:\"E\",20:\"U\",36:\"k\",52:\"0\",5:\"F\",21:\"V\",37:\"l\",53:\"1\",6:\"G\",22:\"W\",38:\"m\",54:\"2\",7:\"H\",23:\"X\",39:\"n\",55:\"3\",8:\"I\",24:\"Y\",40:\"o\",56:\"4\",9:\"J\",25:\"Z\",41:\"p\",57:\"5\",10:\"K\",26:\"a\",42:\"q\",58:\"6\",11:\"L\",27:\"b\",43:\"r\",59:\"7\",12:\"M\",28:\"c\",44:\"s\",60:\"8\",13:\"N\",29:\"d\",45:\"t\",61:\"9\",14:\"O\",30:\"e\",46:\"u\",62:\"+\",15:\"P\",31:\"f\",47:\"v\",63:\"/\"}\n",
      "\n",
      "inputs=\"49276d206b696c6c696e6720796f757220627261696e206c696b65206120706f69736f6e6f7573206d757368726f6f6d\"\n",
      "#inputs=\"4d616e2069732064697374696e67756973686564\"\n",
      "inputs=\"4d616e2069732064697374696e677569736865642c206e6f74206f6e6c792062792068697320726561736f6e2c2062757420627920746869732073696e67756c61722070617373696f6e2066726f6d206f7468657220616e696d616c732c2077686963682069732061206c757374206f6620746865206d696e642c20746861742062792061207065727365766572616e6365206f662064656c6967687420696e2074686520636f6e74696e75656420616e6420696e6465666174696761626c652067656e65726174696f6e206f66206b6e6f776c656467652c2065786365656473207468652073686f727420766568656d656e6365206f6620616e79206361726e616c20706c6561737572652e\"\n",
      "out=\"\"\n",
      "\n",
      "\n"
     ],
     "language": "python",
     "metadata": {},
     "outputs": [
      {
       "output_type": "stream",
       "stream": "stdout",
       "text": [
        "TWFuIGlzIGRpc3Rpbmd1aXNoZWQsIG5vdCBvbmx5IGJ5IGhpcyByZWFzb24sIGJ1dCBieSB0aGlzIHNpbmd1bGFyIHBhc3Npb24gZnJvbSBvdGhlciBhbmltYWxzLCB3aGljaCBpcyBhIGx1c3Qgb2YgdGhlIG1pbmQsIHRoYXQgYnkgYSBwZXJzZXZlcmFuY2Ugb2YgZGVsaWdodCBpbiB0aGUgY29udGludWVkIGFuZCBpbmRlZmF0aWdhYmxlIGdlbmVyYXRpb24gb2Yga25vd2xlZGdlLCBleGNlZWRzIHRoZSBzaG9ydCB2ZWhlbWVuY2Ugb2YgYW55IGNhcm5hbCBwbGVhc3Vy\n"
       ]
      }
     ],
     "prompt_number": 24
    },
    {
     "cell_type": "code",
     "collapsed": false,
     "input": [
      "out=\"\"\n",
      "def encode(js):\n",
      "    z = (js[0] << 8) | js[1]\n",
      "    z = (z<<8) | js[2]\n",
      "    js=[]\n",
      "    oc1=16515072&z\n",
      "    oc1=oc1>>18\n",
      "    oc2=258048&z\n",
      "    oc2=oc2>>12\n",
      "    oc3=4032&z\n",
      "    oc3=oc3>>6\n",
      "    oc4=63&z\n",
      "    return [oc1,oc2,oc3,oc4]\n",
      "\n",
      "tc=0\n",
      "js=[]\n",
      "for i in xrange(len(inputs)/2):\n",
      "    c=inputs[2*i:(2*i)+2]\n",
      "    j=16*hexd[c[0]]+hexd[c[1]]\n",
      "    js.append(j)\n",
      "    tc+=1\n",
      "    if tc==3:\n",
      "        ocs=encode(js)\n",
      "        js=[]\n",
      "        tc=0\n",
      "        #print ocs\n",
      "        for oc in ocs:\n",
      "            out=out+str(b64d[oc])\n",
      "\n",
      "if tc!=0:\n",
      "    for v in range(3-tc):\n",
      "        js.append(0)\n",
      "    ocs = encode(js)\n",
      "    for oc in ocs:\n",
      "        out=out+str(b64d[oc])\n",
      "        pass\n",
      "    mys=\"\"\n",
      "    for i in range(3-tc):\n",
      "        mys=mys+\"=\"\n",
      "    \n",
      "    out=out[:-(3-tc)]+mys\n",
      "print out\n"
     ],
     "language": "python",
     "metadata": {},
     "outputs": [
      {
       "output_type": "stream",
       "stream": "stdout",
       "text": [
        "TWFuIGlzIGRpc3Rpbmd1aXNoZWQsIG5vdCBvbmx5IGJ5IGhpcyByZWFzb24sIGJ1dCBieSB0aGlzIHNpbmd1bGFyIHBhc3Npb24gZnJvbSBvdGhlciBhbmltYWxzLCB3aGljaCBpcyBhIGx1c3Qgb2YgdGhlIG1pbmQsIHRoYXQgYnkgYSBwZXJzZXZlcmFuY2Ugb2YgZGVsaWdodCBpbiB0aGUgY29udGludWVkIGFuZCBpbmRlZmF0aWdhYmxlIGdlbmVyYXRpb24gb2Yga25vd2xlZGdlLCBleGNlZWRzIHRoZSBzaG9ydCB2ZWhlbWVuY2Ugb2YgYW55IGNhcm5hbCBwbGVhc3VyZS4=\n"
       ]
      }
     ],
     "prompt_number": 36
    },
    {
     "cell_type": "code",
     "collapsed": false,
     "input": [],
     "language": "python",
     "metadata": {},
     "outputs": [],
     "prompt_number": 19
    },
    {
     "cell_type": "code",
     "collapsed": false,
     "input": [
      "from hex2b64 import decodehex"
     ],
     "language": "python",
     "metadata": {},
     "outputs": [],
     "prompt_number": 1
    },
    {
     "cell_type": "code",
     "collapsed": false,
     "input": [
      "s1=decodehex(\"1c0111001f010100061a024b53535009181c\")\n",
      "s2=decodehex(\"686974207468652062756c6c277320657965\")\n",
      "#746865206b696420646f6e277420706c6179"
     ],
     "language": "python",
     "metadata": {},
     "outputs": [],
     "prompt_number": 86
    },
    {
     "cell_type": "code",
     "collapsed": false,
     "input": [
      "s1"
     ],
     "language": "python",
     "metadata": {},
     "outputs": [
      {
       "metadata": {},
       "output_type": "pyout",
       "prompt_number": 3,
       "text": [
        "[28, 1, 17, 0, 31, 1, 1, 0, 6, 26, 2, 75, 83, 83, 80, 9, 24, 28]"
       ]
      }
     ],
     "prompt_number": 3
    },
    {
     "cell_type": "code",
     "collapsed": false,
     "input": [
      "def createbinary(sl):\n",
      "    out=0\n",
      "    for i in range(len(sl)):\n",
      "        out=out<<8 | sl[i]\n",
      "    return out"
     ],
     "language": "python",
     "metadata": {},
     "outputs": [],
     "prompt_number": 60
    },
    {
     "cell_type": "code",
     "collapsed": false,
     "input": [
      "createbinary(s1)^createbinary(s2)"
     ],
     "language": "python",
     "metadata": {},
     "outputs": [
      {
       "metadata": {},
       "output_type": "pyout",
       "prompt_number": 61,
       "text": [
        "10140548954603607733141837726260044841640313L"
       ]
      }
     ],
     "prompt_number": 61
    },
    {
     "cell_type": "code",
     "collapsed": false,
     "input": [
      "def encodehex(n):\n",
      "    out=\"\"\n",
      "    trigger=False\n",
      "    limit=128\n",
      "    for i in range(limit):\n",
      "        if n/(16**(limit-1-i))>=1 or trigger==True:\n",
      "            trigger=True\n",
      "            #print i, n\n",
      "            if i!=limit-1:\n",
      "                out+=str(nhexd[n/(16**(limit-1-i))])\n",
      "            else:\n",
      "                out+=str(nhexd[n])\n",
      "            n=n-((n/(16**(limit-1-i)))*(16**(limit-1-i)))\n",
      "            if n<0:\n",
      "                n=0\n",
      "            #print out\n",
      "    return out"
     ],
     "language": "python",
     "metadata": {},
     "outputs": [],
     "prompt_number": 84
    },
    {
     "cell_type": "code",
     "collapsed": false,
     "input": [
      "encodehex(createbinary(s1)^createbinary(s2))"
     ],
     "language": "python",
     "metadata": {},
     "outputs": [
      {
       "metadata": {},
       "output_type": "pyout",
       "prompt_number": 87,
       "text": [
        "'746865206b696420646f6e277420706c6179'"
       ]
      }
     ],
     "prompt_number": 87
    },
    {
     "cell_type": "code",
     "collapsed": false,
     "input": [],
     "language": "python",
     "metadata": {},
     "outputs": [
      {
       "metadata": {},
       "output_type": "pyout",
       "prompt_number": 79,
       "text": [
        "'21'"
       ]
      }
     ],
     "prompt_number": 79
    },
    {
     "cell_type": "code",
     "collapsed": false,
     "input": [
      "hexd={\"0\":0,\"1\":1,\"2\":2,\"3\":3,\"4\":4,\"5\":5,\"6\":6,\"7\":7,\"8\":8,\"9\":9,\"a\":10,\"b\":11,\"c\":12,\"d\":13,\"e\":14,\"f\":15}\n",
      "nhexd = dict (zip(hexd.values(),hexd.keys()))"
     ],
     "language": "python",
     "metadata": {},
     "outputs": [],
     "prompt_number": 80
    },
    {
     "cell_type": "code",
     "collapsed": false,
     "input": [
      "17/16"
     ],
     "language": "python",
     "metadata": {},
     "outputs": [
      {
       "metadata": {},
       "output_type": "pyout",
       "prompt_number": 25,
       "text": [
        "1"
       ]
      }
     ],
     "prompt_number": 25
    },
    {
     "cell_type": "code",
     "collapsed": false,
     "input": [
      "s=decodehex(\"1b37373331363f78151b7f2b783431333d78397828372d363c78373e783a393b3736\")"
     ],
     "language": "python",
     "metadata": {},
     "outputs": [],
     "prompt_number": 92
    },
    {
     "cell_type": "code",
     "collapsed": false,
     "input": [
      "s"
     ],
     "language": "python",
     "metadata": {},
     "outputs": [
      {
       "metadata": {},
       "output_type": "pyout",
       "prompt_number": 91,
       "text": [
        "[27,\n",
        " 55,\n",
        " 55,\n",
        " 51,\n",
        " 49,\n",
        " 54,\n",
        " 63,\n",
        " 120,\n",
        " 21,\n",
        " 27,\n",
        " 127,\n",
        " 43,\n",
        " 120,\n",
        " 52,\n",
        " 49,\n",
        " 51,\n",
        " 61,\n",
        " 120,\n",
        " 57,\n",
        " 120,\n",
        " 40,\n",
        " 55,\n",
        " 45,\n",
        " 54,\n",
        " 60,\n",
        " 120,\n",
        " 55,\n",
        " 62,\n",
        " 120,\n",
        " 58,\n",
        " 57,\n",
        " 59,\n",
        " 55,\n",
        " 54]"
       ]
      }
     ],
     "prompt_number": 91
    },
    {
     "cell_type": "code",
     "collapsed": false,
     "input": [
      "s1=createbinary(s)"
     ],
     "language": "python",
     "metadata": {},
     "outputs": [],
     "prompt_number": 89
    },
    {
     "cell_type": "code",
     "collapsed": false,
     "input": [
      "hexstring2ascii(encodehex(65))"
     ],
     "language": "python",
     "metadata": {},
     "outputs": [
      {
       "metadata": {},
       "output_type": "pyout",
       "prompt_number": 81,
       "text": [
        "'A'"
       ]
      }
     ],
     "prompt_number": 81
    },
    {
     "cell_type": "code",
     "collapsed": false,
     "input": [
      "def hexstring2ascii(s):\n",
      "    out=\"\"\n",
      "    for i in xrange(len(s)/2):\n",
      "        c=s[2*i:(2*i)+2]\n",
      "        j=16*hexd[c[0]]+hexd[c[1]] \n",
      "        out+=str(chr(j))\n",
      "    return out\n"
     ],
     "language": "python",
     "metadata": {},
     "outputs": [],
     "prompt_number": 73
    },
    {
     "cell_type": "code",
     "collapsed": false,
     "input": [
      "for i in range(20,120):\n",
      "    cur=map(chr,map(lambda x: x^i, s))\n",
      "    if all(map(lambda x: x>=32 and x<=126, map(ord, cur))):\n",
      "        if cur.count(\"a\")/float(len(cur))>0.03 and cur.count(\"e\")/float(len(cur))>0.01 and cur.count(\" \")/float(len(cur))>0.01:\n",
      "            print \"\".join(cur)\n",
      "            print \"Key: \" + chr(i)"
     ],
     "language": "python",
     "metadata": {},
     "outputs": [
      {
       "output_type": "stream",
       "stream": "stdout",
       "text": [
        "Cooking MC's like a pound of bacon\n",
        "Key: X\n"
       ]
      }
     ],
     "prompt_number": 107
    },
    {
     "cell_type": "code",
     "collapsed": false,
     "input": [
      "f=open(\"4.txt\",\"r\")\n",
      "for line in f:\n",
      "    s=decodehex(line)\n",
      "    for i in range(20,120):\n",
      "        cur=map(chr,map(lambda x: x^i, s))\n",
      "        if sum(map(lambda x: x>=32 and x<=126, map(ord, cur)))/float(len(cur))>0.96:\n",
      "            if cur.count(\"t\")+cur.count(\"T\")>cur.count(\"p\")+cur.count(\"P\") and cur.count(\"e\")+cur.count(\"E\")>cur.count(\"z\")+cur.count(\"Z\") and cur.count(\"e\")+cur.count(\"E\")>cur.count(\"L\")+cur.count(\"l\"):\n",
      "                if cur.count(\"a\")/float(len(cur))>0.03 and cur.count(\"e\")/float(len(cur))>0.01 and cur.count(\" \")/float(len(cur))>0.01:\n",
      "                    print \"\".join(cur)\n",
      "                    print \"Key: \" + str(chr(i)) + \", Line: \" + line\n"
     ],
     "language": "python",
     "metadata": {},
     "outputs": [
      {
       "output_type": "stream",
       "stream": "stdout",
       "text": [
        "Now that the party is jumping\n",
        "\n",
        "Key: 5, Line: 7b5a4215415d544115415d5015455447414c155c46155f4058455c5b523f\n",
        "\n"
       ]
      }
     ],
     "prompt_number": 132
    },
    {
     "cell_type": "code",
     "collapsed": false,
     "input": [
      "def ascii2hex(c):\n",
      "    o=encodehex(c)\n",
      "    if len(o)==1:\n",
      "        o=\"0\"+o\n",
      "    return o\n",
      "\n",
      "def repeatkeyxor(key,s):\n",
      "    sl=list(s)\n",
      "    out=[]\n",
      "    for i in xrange(len(sl)):\n",
      "        out.append(ord(sl[i])^ord(key[i%len(key)]))\n",
      "    return \"\".join(map(ascii2hex,out))"
     ],
     "language": "python",
     "metadata": {},
     "outputs": [],
     "prompt_number": 140
    },
    {
     "cell_type": "code",
     "collapsed": false,
     "input": [
      "s=\"Burning 'em, if you ain't quick and nimble\\nI go crazy when I hear a cymbal\"\n",
      "k=\"ICE\"\n",
      "repeatkeyxor(k,s) "
     ],
     "language": "python",
     "metadata": {},
     "outputs": [
      {
       "metadata": {},
       "output_type": "pyout",
       "prompt_number": 145,
       "text": [
        "True"
       ]
      }
     ],
     "prompt_number": 145
    },
    {
     "cell_type": "code",
     "collapsed": false,
     "input": [],
     "language": "python",
     "metadata": {},
     "outputs": [
      {
       "ename": "SyntaxError",
       "evalue": "invalid token (<ipython-input-143-1c4a84f934ac>, line 1)",
       "output_type": "pyerr",
       "traceback": [
        "\u001b[1;36m  File \u001b[1;32m\"<ipython-input-143-1c4a84f934ac>\"\u001b[1;36m, line \u001b[1;32m1\u001b[0m\n\u001b[1;33m    0b3637272a2b2e63622c2e69692a23693a2a3c6324202d623d63343c2a26226324272765272a282b2f20430a652e2c652a3124333a653e2b2027630c692b20283165286326302e27282f\u001b[0m\n\u001b[1;37m     ^\u001b[0m\n\u001b[1;31mSyntaxError\u001b[0m\u001b[1;31m:\u001b[0m invalid token\n"
       ]
      }
     ],
     "prompt_number": 143
    },
    {
     "cell_type": "code",
     "collapsed": false,
     "input": [],
     "language": "python",
     "metadata": {},
     "outputs": []
    }
   ],
   "metadata": {}
  }
 ]
}