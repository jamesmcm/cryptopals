{
 "metadata": {
  "name": "",
  "signature": "sha256:754124156d6196ce7ab828668f3e2a76904078ea73c19208d53b8db8212110e0"
 },
 "nbformat": 3,
 "nbformat_minor": 0,
 "worksheets": [
  {
   "cells": [
    {
     "cell_type": "code",
     "collapsed": false,
     "input": [
      "b64d={0:\"A\",16:\"Q\",32:\"g\",48:\"w\",1:\"B\",17:\"R\",33:\"h\",49:\"x\",2:\"C\",18:\"S\",34:\"i\",50:\"y\",3:\"D\",19:\"T\",35:\"j\",51:\"z\",4:\"E\",20:\"U\",36:\"k\",52:\"0\",5:\"F\",21:\"V\",37:\"l\",53:\"1\",6:\"G\",22:\"W\",38:\"m\",54:\"2\",7:\"H\",23:\"X\",39:\"n\",55:\"3\",8:\"I\",24:\"Y\",40:\"o\",56:\"4\",9:\"J\",25:\"Z\",41:\"p\",57:\"5\",10:\"K\",26:\"a\",42:\"q\",58:\"6\",11:\"L\",27:\"b\",43:\"r\",59:\"7\",12:\"M\",28:\"c\",44:\"s\",60:\"8\",13:\"N\",29:\"d\",45:\"t\",61:\"9\",14:\"O\",30:\"e\",46:\"u\",62:\"+\",15:\"P\",31:\"f\",47:\"v\",63:\"/\"}\n",
      "nb64d= dict (zip(b64d.values(),b64d.keys()))"
     ],
     "language": "python",
     "metadata": {},
     "outputs": [],
     "prompt_number": 3
    },
    {
     "cell_type": "code",
     "collapsed": false,
     "input": [
      "def b642ascii(s):\n",
      "    out=[]\n",
      "    for i in xrange(len(s)/4):\n",
      "        c=s[4*i:(4*i)+4]\n",
      "        #print c\n",
      "        n=0\n",
      "        nulls=0\n",
      "        for z in c:\n",
      "            if z!=\"=\":\n",
      "                n=n<<6 | nb64d[z]\n",
      "            else:\n",
      "                nulls+=1\n",
      "                n=n<<6 | 0   \n",
      "        c1=(n&16711680)>>16\n",
      "        c2=(n&65280)>>8\n",
      "        c3=n&255\n",
      "        \n",
      "        cs=[c1,c2,c3]\n",
      "        for i in range(3-nulls):\n",
      "            out.append(chr(cs[i]))\n",
      "\n",
      "    return \"\".join(out)\n",
      "\n",
      "b642ascii(\"YW55IGNhcm5hbCBwbGVhcw==\")"
     ],
     "language": "python",
     "metadata": {},
     "outputs": [
      {
       "metadata": {},
       "output_type": "pyout",
       "prompt_number": 4,
       "text": [
        "'any carnal pleas'"
       ]
      }
     ],
     "prompt_number": 4
    },
    {
     "cell_type": "code",
     "collapsed": false,
     "input": [
      "def hamming(s1,s2):\n",
      "    b1=str2bin(s1)\n",
      "    b2=str2bin(s2)\n",
      "    b=b1^b2\n",
      "    return ones(b)\n",
      "    \n",
      "    \n",
      "def str2bin(s):\n",
      "    o=0\n",
      "    for c in s:\n",
      "        o=o << 8 | ord(c)\n",
      "    return o\n",
      "\n",
      "def ones(n):\n",
      "    w = 0\n",
      "    while (n):\n",
      "        w += 1\n",
      "        n &= n - 1\n",
      "    return w"
     ],
     "language": "python",
     "metadata": {},
     "outputs": [],
     "prompt_number": 5
    },
    {
     "cell_type": "code",
     "collapsed": false,
     "input": [
      "hamming(\"this is a test\",\"wokka wokka!!!\")"
     ],
     "language": "python",
     "metadata": {},
     "outputs": [
      {
       "metadata": {},
       "output_type": "pyout",
       "prompt_number": 6,
       "text": [
        "37"
       ]
      }
     ],
     "prompt_number": 6
    },
    {
     "cell_type": "code",
     "collapsed": false,
     "input": [
      "out=\"\"\n",
      "f=open(\"6.txt\",\"r\")\n",
      "for line in f:\n",
      "    out+=line.strip()\n"
     ],
     "language": "python",
     "metadata": {},
     "outputs": [],
     "prompt_number": 7
    },
    {
     "cell_type": "code",
     "collapsed": false,
     "input": [
      "from numpy import mean\n",
      "s=b642ascii(out)\n",
      "ksd={}\n",
      "for keysize in xrange(1,40):\n",
      "    numbytes=8*keysize\n",
      "    numchars=(1+(keysize/4))*4\n",
      "    c1=s[:keysize]\n",
      "    c2=s[keysize:2*keysize]\n",
      "    c3=s[2*keysize:3*keysize]\n",
      "    c4=s[3*keysize:4*keysize]\n",
      "    c5=s[4*keysize:5*keysize]\n",
      "    diff=mean([hamming(c1,c2)/float(keysize),hamming(c1,c3)/float(keysize),hamming(c2,c3)/float(keysize),hamming(c4,c5)/float(keysize),hamming(c2,c4)/float(keysize),hamming(c1,c5)/float(keysize)])\n",
      "    ksd[keysize]=diff"
     ],
     "language": "python",
     "metadata": {},
     "outputs": [],
     "prompt_number": 44
    },
    {
     "cell_type": "code",
     "collapsed": false,
     "input": [
      "print ksd"
     ],
     "language": "python",
     "metadata": {},
     "outputs": [
      {
       "output_type": "stream",
       "stream": "stdout",
       "text": [
        "{1: 3.6666666666666665, 2: 2.9166666666666665, 3: 3.3333333333333335, 4: 3.25, 5: 2.6666666666666665, 6: 3.3888888888888893, 7: 3.2619047619047623, 8: 3.3333333333333335, 9: 3.1481481481481484, 10: 3.1499999999999999, 11: 3.4090909090909087, 12: 3.0138888888888893, 13: 3.3205128205128207, 14: 3.2261904761904767, 15: 3.2222222222222219, 16: 3.2916666666666665, 17: 3.1960784313725488, 18: 3.2037037037037037, 19: 3.1140350877192979, 20: 3.0500000000000003, 21: 3.285714285714286, 22: 3.3636363636363633, 23: 3.2826086956521738, 24: 3.0347222222222228, 25: 3.2866666666666666, 26: 3.108974358974359, 27: 3.3950617283950617, 28: 3.339285714285714, 29: 2.7643678160919536, 30: 3.2611111111111111, 31: 3.3118279569892475, 32: 3.2395833333333335, 33: 3.2222222222222219, 34: 3.2009803921568629, 35: 3.361904761904762, 36: 3.3287037037037037, 37: 3.1756756756756754, 38: 3.2324561403508771, 39: 3.1923076923076921}\n"
       ]
      }
     ],
     "prompt_number": 45
    },
    {
     "cell_type": "code",
     "collapsed": false,
     "input": [
      "print len(b642ascii(out))"
     ],
     "language": "python",
     "metadata": {},
     "outputs": [
      {
       "output_type": "stream",
       "stream": "stdout",
       "text": [
        "2876\n"
       ]
      }
     ],
     "prompt_number": 10
    },
    {
     "cell_type": "code",
     "collapsed": false,
     "input": [
      "#key length 5 - maybe 2?"
     ],
     "language": "python",
     "metadata": {},
     "outputs": []
    },
    {
     "cell_type": "code",
     "collapsed": false,
     "input": [
      "s=b642ascii(out)\n",
      "#s=\"teststringnew\"\n",
      "keysize=29\n",
      "blocks=[]\n",
      "for i in xrange((len(s)/keysize)+1):\n",
      "    if i!=len(s)/keysize:\n",
      "        blocks.append(s[i*keysize:(i+1)*keysize])\n",
      "    else:\n",
      "        if len(s[i*keysize:])>0:\n",
      "            blocks.append(s[i*keysize:])\n",
      "print len(blocks)\n"
     ],
     "language": "python",
     "metadata": {},
     "outputs": [
      {
       "output_type": "stream",
       "stream": "stdout",
       "text": [
        "100\n"
       ]
      }
     ],
     "prompt_number": 46
    },
    {
     "cell_type": "code",
     "collapsed": false,
     "input": [
      "newblocks=[]\n",
      "for i in xrange(keysize):\n",
      "    newblocks.append([])\n",
      "for block in blocks:\n",
      "    for j in xrange(len(block)):\n",
      "        newblocks[j].append(block[j])\n",
      "print len(newblocks)"
     ],
     "language": "python",
     "metadata": {},
     "outputs": [
      {
       "output_type": "stream",
       "stream": "stdout",
       "text": [
        "29\n"
       ]
      }
     ],
     "prompt_number": 47
    },
    {
     "cell_type": "code",
     "collapsed": false,
     "input": [
      "lf={\n",
      "\"a\":0.08167,\n",
      "\"b\":0.01492,\n",
      "\"c\":0.02782,\n",
      "\"d\":0.04253,\n",
      "\"e\":0.12702,\n",
      "\"f\":0.02228,\n",
      "\"g\":0.02015,\n",
      "\"h\":0.06094,\n",
      "\"i\":0.06966,\n",
      "\"j\":0.00153,\n",
      "\"k\":0.00772,\n",
      "\"l\":0.04025,\n",
      "\"m\":0.02406,\n",
      "\"n\":0.06749,\n",
      "\"o\":0.07507,\n",
      "\"p\":0.01929,\n",
      "\"q\":0.00095,\n",
      "\"r\":0.05987,\n",
      "\"s\":0.06327,\n",
      "\"t\":0.09056,\n",
      "\"u\":0.02758,\n",
      "\"v\":0.00978,\n",
      "\"w\":0.02360,\n",
      "\"x\":0.00150,\n",
      "\"y\":0.01974,\n",
      "\"z\":0.00074}"
     ],
     "language": "python",
     "metadata": {},
     "outputs": [],
     "prompt_number": 15
    },
    {
     "cell_type": "code",
     "collapsed": false,
     "input": [
      "from math import sqrt\n",
      "def computehistogram(block):\n",
      "    myhist={}\n",
      "    chars=0\n",
      "    for k in lf:\n",
      "        myhist[k]=0\n",
      "    for c in block:\n",
      "        c=c.lower()\n",
      "        if c in myhist:\n",
      "            chars+=1\n",
      "            myhist[c]+=1\n",
      "    for k in myhist:\n",
      "        myhist[k]=myhist[k]/float(chars)\n",
      "    return(myhist)\n",
      "\n",
      "def comparehist(hist):\n",
      "    rmse=0\n",
      "    for k in hist:\n",
      "        rmse+=(lf[k]-hist[k])**2\n",
      "    return rmse"
     ],
     "language": "python",
     "metadata": {},
     "outputs": [],
     "prompt_number": 16
    },
    {
     "cell_type": "code",
     "collapsed": false,
     "input": [
      "h= computehistogram(newblocks[0])\n",
      "print h\n",
      "total=0\n",
      "for k in h:\n",
      "    total+=h[k]\n",
      "print total\n",
      "print comparehist(h)"
     ],
     "language": "python",
     "metadata": {},
     "outputs": [
      {
       "output_type": "stream",
       "stream": "stdout",
       "text": [
        "{'a': 0.08928571428571429, 'c': 0.03571428571428571, 'b': 0.047619047619047616, 'e': 0.08333333333333333, 'd': 0.011904761904761904, 'g': 0.041666666666666664, 'f': 0.0, 'i': 0.08928571428571429, 'h': 0.023809523809523808, 'k': 0.023809523809523808, 'j': 0.005952380952380952, 'm': 0.05357142857142857, 'l': 0.005952380952380952, 'o': 0.06547619047619048, 'n': 0.1488095238095238, 'q': 0.0, 'p': 0.011904761904761904, 's': 0.05952380952380952, 'r': 0.06547619047619048, 'u': 0.005952380952380952, 't': 0.07142857142857142, 'w': 0.011904761904761904, 'v': 0.0, 'y': 0.03571428571428571, 'x': 0.005952380952380952, 'z': 0.005952380952380952}\n",
        "1.0\n",
        "0.0172590407698\n"
       ]
      }
     ],
     "prompt_number": 17
    },
    {
     "cell_type": "code",
     "collapsed": false,
     "input": [
      "key=[]\n",
      "keyds=[]\n",
      "for block in newblocks:\n",
      "    minscore=float(\"infinity\")\n",
      "    bestc=None\n",
      "    keyd={}\n",
      "    for keyc in range(32,123):\n",
      "        decrypt=map(lambda x: chr(ord(x)^keyc),block)\n",
      "        score=comparehist(computehistogram(decrypt))\n",
      "        keyd[chr(keyc)]=score\n",
      "        #print score\n",
      "        if score<minscore:\n",
      "            minscore=score\n",
      "            bestc=chr(keyc)\n",
      "    key.append(bestc)\n",
      "    keyds.append(keyd)\n",
      "print key"
     ],
     "language": "python",
     "metadata": {},
     "outputs": [
      {
       "output_type": "stream",
       "stream": "stdout",
       "text": [
        "['T', 'E', 'R', 'M', 'I', 'N', 'A', 'T', 'O', 'R', ' ', 'X', ':', ' ', 'B', 'R', 'I', 'N', 'G', ' ', 'T', 'H', 'E', ' ', 'N', 'O', 'I', 'S', 'E']\n"
       ]
      }
     ],
     "prompt_number": 51
    },
    {
     "cell_type": "code",
     "collapsed": false,
     "input": [
      "key=[]\n",
      "keyds=[]\n",
      "for i in xrange(keysize):\n",
      "    key.append([])\n",
      "blocknum=1\n",
      "for block in newblocks:\n",
      "    minscore=float(\"infinity\")\n",
      "    bestc=None\n",
      "    keyd={}\n",
      "    for i in range(32,122):\n",
      "        cur=map(chr,map(lambda x: ord(x)^i, block))\n",
      "        if sum(map(lambda x: (x>=65 and x<=90) or (x>=97 and x<=122), map(ord, cur)))/float(len(cur))>0.76000:\n",
      "            #print \"Key: \" + str(chr(i))\n",
      "            key[blocknum-1].append(chr(i))\n",
      "    blocknum+=1\n",
      "print key\n",
      "keylist=key"
     ],
     "language": "python",
     "metadata": {},
     "outputs": [
      {
       "output_type": "stream",
       "stream": "stdout",
       "text": [
        "[[], [], [], [], [], ['M', 'N', 'm', 'n'], [], ['R', 'T', 'V', 'r', 't', 'v'], [], ['R', 'r'], [], ['X', '[', 'x'], [], [], [], [], [], [], [], [' '], ['T', 't'], [], [], [], ['N', 'n'], [], [], [], []]\n"
       ]
      }
     ],
     "prompt_number": 50
    },
    {
     "cell_type": "code",
     "collapsed": false,
     "input": [
      "key=[]\n",
      "keyds=[]\n",
      "for i in xrange(keysize):\n",
      "    key.append([])\n",
      "blocknum=1\n",
      "for block in newblocks:\n",
      "    minscore=float(\"infinity\")\n",
      "    bestc=None\n",
      "    keyd={}\n",
      "    for i in range(32,91):\n",
      "        cur=map(chr,map(lambda x: ord(x)^i, block))\n",
      "        if sum(map(lambda x: x>=65 and x<=122, map(ord, cur)))/float(len(cur))>0.6200:\n",
      "                    #print blocknum\n",
      "                    #print \"Key: \" + str(chr(i))\n",
      "                    key[blocknum-1].append(chr(i))\n",
      "    blocknum+=1\n",
      "print key\n",
      "keylist=key\n"
     ],
     "language": "python",
     "metadata": {},
     "outputs": []
    },
    {
     "cell_type": "code",
     "collapsed": false,
     "input": [
      "import operator\n",
      "sorts=[]\n",
      "for d in keyds:\n",
      "    sorted_x = sorted(d.items(), key=operator.itemgetter(1))\n",
      "    sorts.append(sorted_x[:10])\n",
      "    "
     ],
     "language": "python",
     "metadata": {},
     "outputs": [],
     "prompt_number": 244
    },
    {
     "cell_type": "code",
     "collapsed": false,
     "input": [
      "from hex2b64 import hexstring2ascii, repeatkeyxor\n",
      "def decryptxor(k,s):\n",
      "    return repeatkeyxor(k,s,tohex=False)"
     ],
     "language": "python",
     "metadata": {},
     "outputs": [],
     "prompt_number": 20
    },
    {
     "cell_type": "code",
     "collapsed": false,
     "input": [
      "print sorts"
     ],
     "language": "python",
     "metadata": {},
     "outputs": [
      {
       "output_type": "stream",
       "stream": "stdout",
       "text": [
        "[[('I', 0.014088403671853555), ('i', 0.014088403671853555), (' ', 0.017259040769841267), ('T', 0.018203819662517322), ('t', 0.018203819662517322), ('O', 0.02025311879202975), ('o', 0.02025311879202975), ('N', 0.02340262026798269), ('n', 0.02340262026798269), ('R', 0.023426310579554948)], [(' ', 0.00849006935774702), ('R', 0.01782790152866874), ('r', 0.01782790152866874), ('H', 0.018912455055555555), ('h', 0.018912455055555555), ('T', 0.01926750918988594), ('t', 0.01926750918988594), ('I', 0.019317728428336626), ('i', 0.019317728428336626), ('O', 0.019639911800701855)], [(' ', 0.010544657422419465), ('N', 0.014131370757550573), ('n', 0.014131370757550573), ('T', 0.016749924481738492), ('t', 0.016749924481738492), ('O', 0.020421133555670667), ('o', 0.020421133555670667), ('I', 0.02157208456893604), ('i', 0.02157208456893604), ('R', 0.023048573656089654)], [(' ', 0.008566330006245891), ('T', 0.02059146432232067), ('t', 0.02059146432232067), ('O', 0.021028289061436715), ('o', 0.021028289061436715), ('N', 0.021458865906273324), ('n', 0.021458865906273324), ('E', 0.0221260841943371), ('e', 0.0221260841943371), ('I', 0.024556969275948786)], [(' ', 0.013595172667044597), ('E', 0.01781714817096177), ('e', 0.01781714817096177), ('N', 0.01834125362528237), ('n', 0.01834125362528237), ('I', 0.022073862280064024), ('i', 0.022073862280064024), ('_', 0.024739254388346777), ('R', 0.025194021034800708), ('r', 0.025194021034800708)]]\n"
       ]
      }
     ],
     "prompt_number": 245
    },
    {
     "cell_type": "code",
     "collapsed": false,
     "input": [
      "#print hexstring2ascii(repeatkeyxor(\"\".join(key),s))\n",
      "print \"\".join(key)\n",
      "#print s\n",
      "key=['i', 'n', 'n', 'e', 'r']\n",
      "for i in range(len(sorts[0])):\n",
      "    for j in range(len(sorts[0])):\n",
      "        for k in range(len(sorts[0])):\n",
      "            for l in range(len(sorts[0])):\n",
      "                for m in range(len(sorts[0])):\n",
      "                    key=[sorts[0][i][0],sorts[1][j][0],sorts[2][k][0],sorts[3][l][0],sorts[4][m][0]]\n",
      "                    temp=decryptxor(\"\".join(key),s)\n",
      "                    if \" the \" in temp:\n",
      "                        print key\n",
      "                        print temp"
     ],
     "language": "python",
     "metadata": {},
     "outputs": [
      {
       "output_type": "stream",
       "stream": "stdout",
       "text": [
        "inner\n"
       ]
      },
      {
       "ename": "KeyboardInterrupt",
       "evalue": "",
       "output_type": "pyerr",
       "traceback": [
        "\u001b[1;31m---------------------------------------------------------------------------\u001b[0m\n\u001b[1;31mKeyboardInterrupt\u001b[0m                         Traceback (most recent call last)",
        "\u001b[1;32m<ipython-input-184-66724a257a8a>\u001b[0m in \u001b[0;36m<module>\u001b[1;34m()\u001b[0m\n\u001b[0;32m      9\u001b[0m                 \u001b[1;32mfor\u001b[0m \u001b[0mm\u001b[0m \u001b[1;32min\u001b[0m \u001b[0mrange\u001b[0m\u001b[1;33m(\u001b[0m\u001b[0mlen\u001b[0m\u001b[1;33m(\u001b[0m\u001b[0msorts\u001b[0m\u001b[1;33m[\u001b[0m\u001b[1;36m0\u001b[0m\u001b[1;33m]\u001b[0m\u001b[1;33m)\u001b[0m\u001b[1;33m)\u001b[0m\u001b[1;33m:\u001b[0m\u001b[1;33m\u001b[0m\u001b[0m\n\u001b[0;32m     10\u001b[0m                     \u001b[0mkey\u001b[0m\u001b[1;33m=\u001b[0m\u001b[1;33m[\u001b[0m\u001b[0msorts\u001b[0m\u001b[1;33m[\u001b[0m\u001b[1;36m0\u001b[0m\u001b[1;33m]\u001b[0m\u001b[1;33m[\u001b[0m\u001b[0mi\u001b[0m\u001b[1;33m]\u001b[0m\u001b[1;33m[\u001b[0m\u001b[1;36m0\u001b[0m\u001b[1;33m]\u001b[0m\u001b[1;33m,\u001b[0m\u001b[0msorts\u001b[0m\u001b[1;33m[\u001b[0m\u001b[1;36m1\u001b[0m\u001b[1;33m]\u001b[0m\u001b[1;33m[\u001b[0m\u001b[0mj\u001b[0m\u001b[1;33m]\u001b[0m\u001b[1;33m[\u001b[0m\u001b[1;36m0\u001b[0m\u001b[1;33m]\u001b[0m\u001b[1;33m,\u001b[0m\u001b[0msorts\u001b[0m\u001b[1;33m[\u001b[0m\u001b[1;36m2\u001b[0m\u001b[1;33m]\u001b[0m\u001b[1;33m[\u001b[0m\u001b[0mk\u001b[0m\u001b[1;33m]\u001b[0m\u001b[1;33m[\u001b[0m\u001b[1;36m0\u001b[0m\u001b[1;33m]\u001b[0m\u001b[1;33m,\u001b[0m\u001b[0msorts\u001b[0m\u001b[1;33m[\u001b[0m\u001b[1;36m3\u001b[0m\u001b[1;33m]\u001b[0m\u001b[1;33m[\u001b[0m\u001b[0ml\u001b[0m\u001b[1;33m]\u001b[0m\u001b[1;33m[\u001b[0m\u001b[1;36m0\u001b[0m\u001b[1;33m]\u001b[0m\u001b[1;33m,\u001b[0m\u001b[0msorts\u001b[0m\u001b[1;33m[\u001b[0m\u001b[1;36m4\u001b[0m\u001b[1;33m]\u001b[0m\u001b[1;33m[\u001b[0m\u001b[0mm\u001b[0m\u001b[1;33m]\u001b[0m\u001b[1;33m[\u001b[0m\u001b[1;36m0\u001b[0m\u001b[1;33m]\u001b[0m\u001b[1;33m]\u001b[0m\u001b[1;33m\u001b[0m\u001b[0m\n\u001b[1;32m---> 11\u001b[1;33m                     \u001b[0mtemp\u001b[0m\u001b[1;33m=\u001b[0m\u001b[0mdecryptxor\u001b[0m\u001b[1;33m(\u001b[0m\u001b[1;34m\"\"\u001b[0m\u001b[1;33m.\u001b[0m\u001b[0mjoin\u001b[0m\u001b[1;33m(\u001b[0m\u001b[0mkey\u001b[0m\u001b[1;33m)\u001b[0m\u001b[1;33m,\u001b[0m\u001b[0ms\u001b[0m\u001b[1;33m)\u001b[0m\u001b[1;33m\u001b[0m\u001b[0m\n\u001b[0m\u001b[0;32m     12\u001b[0m                     \u001b[1;32mif\u001b[0m \u001b[1;34m\" the \"\u001b[0m \u001b[1;32min\u001b[0m \u001b[0mtemp\u001b[0m\u001b[1;33m:\u001b[0m\u001b[1;33m\u001b[0m\u001b[0m\n\u001b[0;32m     13\u001b[0m                         \u001b[1;32mprint\u001b[0m \u001b[0mkey\u001b[0m\u001b[1;33m\u001b[0m\u001b[0m\n",
        "\u001b[1;32m<ipython-input-111-98910ae91673>\u001b[0m in \u001b[0;36mdecryptxor\u001b[1;34m(k, s)\u001b[0m\n\u001b[0;32m      1\u001b[0m \u001b[1;32mfrom\u001b[0m \u001b[0mhex2b64\u001b[0m \u001b[1;32mimport\u001b[0m \u001b[0mhexstring2ascii\u001b[0m\u001b[1;33m,\u001b[0m \u001b[0mrepeatkeyxor\u001b[0m\u001b[1;33m\u001b[0m\u001b[0m\n\u001b[0;32m      2\u001b[0m \u001b[1;32mdef\u001b[0m \u001b[0mdecryptxor\u001b[0m\u001b[1;33m(\u001b[0m\u001b[0mk\u001b[0m\u001b[1;33m,\u001b[0m\u001b[0ms\u001b[0m\u001b[1;33m)\u001b[0m\u001b[1;33m:\u001b[0m\u001b[1;33m\u001b[0m\u001b[0m\n\u001b[1;32m----> 3\u001b[1;33m     \u001b[1;32mreturn\u001b[0m \u001b[0mhexstring2ascii\u001b[0m\u001b[1;33m(\u001b[0m\u001b[0mrepeatkeyxor\u001b[0m\u001b[1;33m(\u001b[0m\u001b[0mk\u001b[0m\u001b[1;33m,\u001b[0m\u001b[0ms\u001b[0m\u001b[1;33m)\u001b[0m\u001b[1;33m)\u001b[0m\u001b[1;33m\u001b[0m\u001b[0m\n\u001b[0m",
        "\u001b[1;32m/home/jamesmcm/Dropbox/crypto/hex2b64.py\u001b[0m in \u001b[0;36mrepeatkeyxor\u001b[1;34m(key, s)\u001b[0m\n\u001b[0;32m    100\u001b[0m     \u001b[1;32mfor\u001b[0m \u001b[0mi\u001b[0m \u001b[1;32min\u001b[0m \u001b[0mxrange\u001b[0m\u001b[1;33m(\u001b[0m\u001b[0mlen\u001b[0m\u001b[1;33m(\u001b[0m\u001b[0msl\u001b[0m\u001b[1;33m)\u001b[0m\u001b[1;33m)\u001b[0m\u001b[1;33m:\u001b[0m\u001b[1;33m\u001b[0m\u001b[0m\n\u001b[0;32m    101\u001b[0m         \u001b[0mout\u001b[0m\u001b[1;33m.\u001b[0m\u001b[0mappend\u001b[0m\u001b[1;33m(\u001b[0m\u001b[0mord\u001b[0m\u001b[1;33m(\u001b[0m\u001b[0msl\u001b[0m\u001b[1;33m[\u001b[0m\u001b[0mi\u001b[0m\u001b[1;33m]\u001b[0m\u001b[1;33m)\u001b[0m\u001b[1;33m^\u001b[0m\u001b[0mord\u001b[0m\u001b[1;33m(\u001b[0m\u001b[0mkey\u001b[0m\u001b[1;33m[\u001b[0m\u001b[0mi\u001b[0m\u001b[1;33m%\u001b[0m\u001b[0mlen\u001b[0m\u001b[1;33m(\u001b[0m\u001b[0mkey\u001b[0m\u001b[1;33m)\u001b[0m\u001b[1;33m]\u001b[0m\u001b[1;33m)\u001b[0m\u001b[1;33m)\u001b[0m\u001b[1;33m\u001b[0m\u001b[0m\n\u001b[1;32m--> 102\u001b[1;33m     \u001b[1;32mreturn\u001b[0m \u001b[1;34m\"\"\u001b[0m\u001b[1;33m.\u001b[0m\u001b[0mjoin\u001b[0m\u001b[1;33m(\u001b[0m\u001b[0mmap\u001b[0m\u001b[1;33m(\u001b[0m\u001b[0mascii2hex\u001b[0m\u001b[1;33m,\u001b[0m\u001b[0mout\u001b[0m\u001b[1;33m)\u001b[0m\u001b[1;33m)\u001b[0m\u001b[1;33m\u001b[0m\u001b[0m\n\u001b[0m\u001b[0;32m    103\u001b[0m \u001b[1;33m\u001b[0m\u001b[0m\n\u001b[0;32m    104\u001b[0m \u001b[1;32mdef\u001b[0m \u001b[0mb642ascii\u001b[0m\u001b[1;33m(\u001b[0m\u001b[0ms\u001b[0m\u001b[1;33m)\u001b[0m\u001b[1;33m:\u001b[0m\u001b[1;33m\u001b[0m\u001b[0m\n",
        "\u001b[1;32m/home/jamesmcm/Dropbox/crypto/hex2b64.py\u001b[0m in \u001b[0;36mascii2hex\u001b[1;34m(c)\u001b[0m\n\u001b[0;32m     90\u001b[0m \u001b[1;33m\u001b[0m\u001b[0m\n\u001b[0;32m     91\u001b[0m \u001b[1;32mdef\u001b[0m \u001b[0mascii2hex\u001b[0m\u001b[1;33m(\u001b[0m\u001b[0mc\u001b[0m\u001b[1;33m)\u001b[0m\u001b[1;33m:\u001b[0m\u001b[1;33m\u001b[0m\u001b[0m\n\u001b[1;32m---> 92\u001b[1;33m     \u001b[0mo\u001b[0m\u001b[1;33m=\u001b[0m\u001b[0mencodehex\u001b[0m\u001b[1;33m(\u001b[0m\u001b[0mc\u001b[0m\u001b[1;33m)\u001b[0m\u001b[1;33m\u001b[0m\u001b[0m\n\u001b[0m\u001b[0;32m     93\u001b[0m     \u001b[1;32mif\u001b[0m \u001b[0mlen\u001b[0m\u001b[1;33m(\u001b[0m\u001b[0mo\u001b[0m\u001b[1;33m)\u001b[0m\u001b[1;33m==\u001b[0m\u001b[1;36m1\u001b[0m\u001b[1;33m:\u001b[0m\u001b[1;33m\u001b[0m\u001b[0m\n\u001b[0;32m     94\u001b[0m         \u001b[0mo\u001b[0m\u001b[1;33m=\u001b[0m\u001b[1;34m\"0\"\u001b[0m\u001b[1;33m+\u001b[0m\u001b[0mo\u001b[0m\u001b[1;33m\u001b[0m\u001b[0m\n",
        "\u001b[1;32m/home/jamesmcm/Dropbox/crypto/hex2b64.py\u001b[0m in \u001b[0;36mencodehex\u001b[1;34m(n)\u001b[0m\n\u001b[0;32m     62\u001b[0m     \u001b[0mtrigger\u001b[0m\u001b[1;33m=\u001b[0m\u001b[0mFalse\u001b[0m\u001b[1;33m\u001b[0m\u001b[0m\n\u001b[0;32m     63\u001b[0m     \u001b[1;32mfor\u001b[0m \u001b[0mi\u001b[0m \u001b[1;32min\u001b[0m \u001b[0mrange\u001b[0m\u001b[1;33m(\u001b[0m\u001b[1;36m64\u001b[0m\u001b[1;33m)\u001b[0m\u001b[1;33m:\u001b[0m\u001b[1;33m\u001b[0m\u001b[0m\n\u001b[1;32m---> 64\u001b[1;33m         \u001b[1;32mif\u001b[0m \u001b[0mn\u001b[0m\u001b[1;33m/\u001b[0m\u001b[1;33m(\u001b[0m\u001b[1;36m16\u001b[0m\u001b[1;33m**\u001b[0m\u001b[1;33m(\u001b[0m\u001b[1;36m63\u001b[0m\u001b[1;33m-\u001b[0m\u001b[0mi\u001b[0m\u001b[1;33m)\u001b[0m\u001b[1;33m)\u001b[0m\u001b[1;33m>=\u001b[0m\u001b[1;36m1\u001b[0m \u001b[1;32mor\u001b[0m \u001b[0mtrigger\u001b[0m\u001b[1;33m==\u001b[0m\u001b[0mTrue\u001b[0m\u001b[1;33m:\u001b[0m\u001b[1;33m\u001b[0m\u001b[0m\n\u001b[0m\u001b[0;32m     65\u001b[0m             \u001b[0mtrigger\u001b[0m\u001b[1;33m=\u001b[0m\u001b[0mTrue\u001b[0m\u001b[1;33m\u001b[0m\u001b[0m\n\u001b[0;32m     66\u001b[0m             \u001b[1;31m#print i, n\u001b[0m\u001b[1;33m\u001b[0m\u001b[1;33m\u001b[0m\u001b[0m\n",
        "\u001b[1;31mKeyboardInterrupt\u001b[0m: "
       ]
      }
     ],
     "prompt_number": 184
    },
    {
     "cell_type": "code",
     "collapsed": false,
     "input": [
      "#key=[\"I\",\"I\",\"N\",\"I\",\"O\"]\n",
      "#key=[\"t\",\"t\",\"r\",\"t\",\"o\"]\n",
      "#for x in ['c', 'd', 'e', 'h', 'i', 'n', 'o', 's', 't', 'x']:\n",
      "#key[0]=x\n",
      "print decryptxor(\"Terminator X: Bring the noise\",s)\n",
      "#print \"------\""
     ],
     "language": "python",
     "metadata": {},
     "outputs": [
      {
       "output_type": "stream",
       "stream": "stdout",
       "text": [
        "I'm back and I'm ringin' the bell \n",
        "A rockin' on the mike while the fly girls yell \n",
        "In ecstasy in the back of me \n",
        "Well that's my DJ Deshay cuttin' all them Z's \n",
        "Hittin' hard and the girlies goin' crazy \n",
        "Vanilla's on the mike, man I'm not lazy. \n",
        "\n",
        "I'm lettin' my drug kick in \n",
        "It controls my mouth and I begin \n",
        "To just let it flow, let my concepts go \n",
        "My posse's to the side yellin', Go Vanilla Go! \n",
        "\n",
        "Smooth 'cause that's the way I will be \n",
        "And if you don't give a damn, then \n",
        "Why you starin' at me \n",
        "So get off 'cause I control the stage \n",
        "There's no dissin' allowed \n",
        "I'm in my own phase \n",
        "The girlies sa y they love me and that is ok \n",
        "And I can dance better than any kid n' play \n",
        "\n",
        "Stage 2 -- Yea the one ya' wanna listen to \n",
        "It's off my head so let the beat play through \n",
        "So I can funk it up and make it sound good \n",
        "1-2-3 Yo -- Knock on some wood \n",
        "For good luck, I like my rhymes atrocious \n",
        "Supercalafragilisticexpialidocious \n",
        "I'm an effect and that you can bet \n",
        "I can take a fly girl and make her wet. \n",
        "\n",
        "I'm like Samson -- Samson to Delilah \n",
        "There's no denyin', You can try to hang \n",
        "But you'll keep tryin' to get my style \n",
        "Over and over, practice makes perfect \n",
        "But not if you're a loafer. \n",
        "\n",
        "You'll get nowhere, no place, no time, no girls \n",
        "Soon -- Oh my God, homebody, you probably eat \n",
        "Spaghetti with a spoon! Come on and say it! \n",
        "\n",
        "VIP. Vanilla Ice yep, yep, I'm comin' hard like a rhino \n",
        "Intoxicating so you stagger like a wino \n",
        "So punks stop trying and girl stop cryin' \n",
        "Vanilla Ice is sellin' and you people are buyin' \n",
        "'Cause why the freaks are jockin' like Crazy Glue \n",
        "Movin' and groovin' trying to sing along \n",
        "All through the ghetto groovin' this here song \n",
        "Now you're amazed by the VIP posse. \n",
        "\n",
        "Steppin' so hard like a German Nazi \n",
        "Startled by the bases hittin' ground \n",
        "There's no trippin' on mine, I'm just gettin' down \n",
        "Sparkamatic, I'm hangin' tight like a fanatic \n",
        "You trapped me once and I thought that \n",
        "You might have it \n",
        "So step down and lend me your ear \n",
        "'89 in my time! You, '90 is my year. \n",
        "\n",
        "You're weakenin' fast, YO! and I can tell it \n",
        "Your body's gettin' hot, so, so I can smell it \n",
        "So don't be mad and don't be sad \n",
        "'Cause the lyrics belong to ICE, You can call me Dad \n",
        "You're pitchin' a fit, so step back and endure \n",
        "Let the witch doctor, Ice, do the dance to cure \n",
        "So come up close and don't be square \n",
        "You wanna battle me -- Anytime, anywhere \n",
        "\n",
        "You thought that I was weak, Boy, you're dead wrong \n",
        "So come on, everybody and sing this song \n",
        "\n",
        "Say -- Play that funky music Say, go white boy, go white boy go \n",
        "play that funky music Go white boy, go white boy, go \n",
        "Lay down and boogie and play that funky music till you die. \n",
        "\n",
        "Play that funky music Come on, Come on, let me hear \n",
        "Play that funky music white boy you say it, say it \n",
        "Play that funky music A little louder now \n",
        "Play that funky music, white boy Come on, Come on, Come on \n",
        "Play that funky music \n",
        "\n"
       ]
      }
     ],
     "prompt_number": 55
    },
    {
     "cell_type": "code",
     "collapsed": false,
     "input": [],
     "language": "python",
     "metadata": {},
     "outputs": []
    }
   ],
   "metadata": {}
  }
 ]
}